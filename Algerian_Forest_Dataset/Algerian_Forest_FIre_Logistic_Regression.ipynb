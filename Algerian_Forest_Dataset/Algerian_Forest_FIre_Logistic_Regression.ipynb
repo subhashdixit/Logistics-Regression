{
  "nbformat": 4,
  "nbformat_minor": 0,
  "metadata": {
    "colab": {
      "provenance": [],
      "collapsed_sections": [],
      "authorship_tag": "ABX9TyMpVc89jRzrTwOl7PxTPKw9",
      "include_colab_link": true
    },
    "kernelspec": {
      "name": "python3",
      "display_name": "Python 3"
    },
    "language_info": {
      "name": "python"
    }
  },
  "cells": [
    {
      "cell_type": "markdown",
      "metadata": {
        "id": "view-in-github",
        "colab_type": "text"
      },
      "source": [
        "<a href=\"https://colab.research.google.com/github/subhashdixit/Data_Science_Materials_Topicwise/blob/main/Machine_Learning/Logistics_Regression/Algerian_Forest_Dataset/Algerian_Forest_FIre_Logistic_Regression.ipynb\" target=\"_parent\"><img src=\"https://colab.research.google.com/assets/colab-badge.svg\" alt=\"Open In Colab\"/></a>"
      ]
    },
    {
      "cell_type": "markdown",
      "source": [
        "#**Problem Statement**\n",
        "1 . Classification problem of Algerian forest fire which will predict whether fire will be occur or not based on different features\n"
      ],
      "metadata": {
        "id": "O8oaXJIKDlU-"
      }
    },
    {
      "cell_type": "markdown",
      "source": [
        "**Import Required Libraries**"
      ],
      "metadata": {
        "id": "Tgago4VZEs_n"
      }
    },
    {
      "cell_type": "code",
      "source": [
        "import pandas as pd\n",
        "import numpy as np\n",
        "import seaborn as sns\n",
        "import matplotlib.pyplot as plt\n",
        "import random\n",
        "%matplotlib inline\n",
        "import warnings\n",
        "warnings.filterwarnings('ignore')"
      ],
      "metadata": {
        "id": "Bcgo0BIE6lAB"
      },
      "execution_count": 1,
      "outputs": []
    },
    {
      "cell_type": "markdown",
      "source": [
        "**Read data from github**"
      ],
      "metadata": {
        "id": "49WXGni9E8g8"
      }
    },
    {
      "cell_type": "code",
      "execution_count": 2,
      "metadata": {
        "id": "d5Io0EzA57La"
      },
      "outputs": [],
      "source": [
        "url = \"https://raw.githubusercontent.com/subhashdixit/Data_Science_Materials_Topicwise/main/Machine_Learning/Logistics_Regression/Algerian_Forest_Dataset/Algerian_forest_fires_dataset.csv\"\n",
        "df = pd.read_csv(url, header = 1)"
      ]
    },
    {
      "cell_type": "code",
      "source": [
        "df.head()"
      ],
      "metadata": {
        "colab": {
          "base_uri": "https://localhost:8080/",
          "height": 206
        },
        "id": "VosbmCRX7ZbQ",
        "outputId": "1a73c79e-39a1-4689-af46-1dbcab27099d"
      },
      "execution_count": 3,
      "outputs": [
        {
          "output_type": "execute_result",
          "data": {
            "text/plain": [
              "  day month  year Temperature  RH  Ws Rain   FFMC  DMC    DC  ISI  BUI  FWI  \\\n",
              "0  01    06  2012          29  57  18     0  65.7  3.4   7.6  1.3  3.4  0.5   \n",
              "1  02    06  2012          29  61  13   1.3  64.4  4.1   7.6    1  3.9  0.4   \n",
              "2  03    06  2012          26  82  22  13.1  47.1  2.5   7.1  0.3  2.7  0.1   \n",
              "3  04    06  2012          25  89  13   2.5  28.6  1.3   6.9    0  1.7    0   \n",
              "4  05    06  2012          27  77  16     0  64.8    3  14.2  1.2  3.9  0.5   \n",
              "\n",
              "     Classes    \n",
              "0  not fire     \n",
              "1  not fire     \n",
              "2  not fire     \n",
              "3  not fire     \n",
              "4  not fire     "
            ],
            "text/html": [
              "\n",
              "  <div id=\"df-610146ef-89f6-4af2-8207-6ee5690200fb\">\n",
              "    <div class=\"colab-df-container\">\n",
              "      <div>\n",
              "<style scoped>\n",
              "    .dataframe tbody tr th:only-of-type {\n",
              "        vertical-align: middle;\n",
              "    }\n",
              "\n",
              "    .dataframe tbody tr th {\n",
              "        vertical-align: top;\n",
              "    }\n",
              "\n",
              "    .dataframe thead th {\n",
              "        text-align: right;\n",
              "    }\n",
              "</style>\n",
              "<table border=\"1\" class=\"dataframe\">\n",
              "  <thead>\n",
              "    <tr style=\"text-align: right;\">\n",
              "      <th></th>\n",
              "      <th>day</th>\n",
              "      <th>month</th>\n",
              "      <th>year</th>\n",
              "      <th>Temperature</th>\n",
              "      <th>RH</th>\n",
              "      <th>Ws</th>\n",
              "      <th>Rain</th>\n",
              "      <th>FFMC</th>\n",
              "      <th>DMC</th>\n",
              "      <th>DC</th>\n",
              "      <th>ISI</th>\n",
              "      <th>BUI</th>\n",
              "      <th>FWI</th>\n",
              "      <th>Classes</th>\n",
              "    </tr>\n",
              "  </thead>\n",
              "  <tbody>\n",
              "    <tr>\n",
              "      <th>0</th>\n",
              "      <td>01</td>\n",
              "      <td>06</td>\n",
              "      <td>2012</td>\n",
              "      <td>29</td>\n",
              "      <td>57</td>\n",
              "      <td>18</td>\n",
              "      <td>0</td>\n",
              "      <td>65.7</td>\n",
              "      <td>3.4</td>\n",
              "      <td>7.6</td>\n",
              "      <td>1.3</td>\n",
              "      <td>3.4</td>\n",
              "      <td>0.5</td>\n",
              "      <td>not fire</td>\n",
              "    </tr>\n",
              "    <tr>\n",
              "      <th>1</th>\n",
              "      <td>02</td>\n",
              "      <td>06</td>\n",
              "      <td>2012</td>\n",
              "      <td>29</td>\n",
              "      <td>61</td>\n",
              "      <td>13</td>\n",
              "      <td>1.3</td>\n",
              "      <td>64.4</td>\n",
              "      <td>4.1</td>\n",
              "      <td>7.6</td>\n",
              "      <td>1</td>\n",
              "      <td>3.9</td>\n",
              "      <td>0.4</td>\n",
              "      <td>not fire</td>\n",
              "    </tr>\n",
              "    <tr>\n",
              "      <th>2</th>\n",
              "      <td>03</td>\n",
              "      <td>06</td>\n",
              "      <td>2012</td>\n",
              "      <td>26</td>\n",
              "      <td>82</td>\n",
              "      <td>22</td>\n",
              "      <td>13.1</td>\n",
              "      <td>47.1</td>\n",
              "      <td>2.5</td>\n",
              "      <td>7.1</td>\n",
              "      <td>0.3</td>\n",
              "      <td>2.7</td>\n",
              "      <td>0.1</td>\n",
              "      <td>not fire</td>\n",
              "    </tr>\n",
              "    <tr>\n",
              "      <th>3</th>\n",
              "      <td>04</td>\n",
              "      <td>06</td>\n",
              "      <td>2012</td>\n",
              "      <td>25</td>\n",
              "      <td>89</td>\n",
              "      <td>13</td>\n",
              "      <td>2.5</td>\n",
              "      <td>28.6</td>\n",
              "      <td>1.3</td>\n",
              "      <td>6.9</td>\n",
              "      <td>0</td>\n",
              "      <td>1.7</td>\n",
              "      <td>0</td>\n",
              "      <td>not fire</td>\n",
              "    </tr>\n",
              "    <tr>\n",
              "      <th>4</th>\n",
              "      <td>05</td>\n",
              "      <td>06</td>\n",
              "      <td>2012</td>\n",
              "      <td>27</td>\n",
              "      <td>77</td>\n",
              "      <td>16</td>\n",
              "      <td>0</td>\n",
              "      <td>64.8</td>\n",
              "      <td>3</td>\n",
              "      <td>14.2</td>\n",
              "      <td>1.2</td>\n",
              "      <td>3.9</td>\n",
              "      <td>0.5</td>\n",
              "      <td>not fire</td>\n",
              "    </tr>\n",
              "  </tbody>\n",
              "</table>\n",
              "</div>\n",
              "      <button class=\"colab-df-convert\" onclick=\"convertToInteractive('df-610146ef-89f6-4af2-8207-6ee5690200fb')\"\n",
              "              title=\"Convert this dataframe to an interactive table.\"\n",
              "              style=\"display:none;\">\n",
              "        \n",
              "  <svg xmlns=\"http://www.w3.org/2000/svg\" height=\"24px\"viewBox=\"0 0 24 24\"\n",
              "       width=\"24px\">\n",
              "    <path d=\"M0 0h24v24H0V0z\" fill=\"none\"/>\n",
              "    <path d=\"M18.56 5.44l.94 2.06.94-2.06 2.06-.94-2.06-.94-.94-2.06-.94 2.06-2.06.94zm-11 1L8.5 8.5l.94-2.06 2.06-.94-2.06-.94L8.5 2.5l-.94 2.06-2.06.94zm10 10l.94 2.06.94-2.06 2.06-.94-2.06-.94-.94-2.06-.94 2.06-2.06.94z\"/><path d=\"M17.41 7.96l-1.37-1.37c-.4-.4-.92-.59-1.43-.59-.52 0-1.04.2-1.43.59L10.3 9.45l-7.72 7.72c-.78.78-.78 2.05 0 2.83L4 21.41c.39.39.9.59 1.41.59.51 0 1.02-.2 1.41-.59l7.78-7.78 2.81-2.81c.8-.78.8-2.07 0-2.86zM5.41 20L4 18.59l7.72-7.72 1.47 1.35L5.41 20z\"/>\n",
              "  </svg>\n",
              "      </button>\n",
              "      \n",
              "  <style>\n",
              "    .colab-df-container {\n",
              "      display:flex;\n",
              "      flex-wrap:wrap;\n",
              "      gap: 12px;\n",
              "    }\n",
              "\n",
              "    .colab-df-convert {\n",
              "      background-color: #E8F0FE;\n",
              "      border: none;\n",
              "      border-radius: 50%;\n",
              "      cursor: pointer;\n",
              "      display: none;\n",
              "      fill: #1967D2;\n",
              "      height: 32px;\n",
              "      padding: 0 0 0 0;\n",
              "      width: 32px;\n",
              "    }\n",
              "\n",
              "    .colab-df-convert:hover {\n",
              "      background-color: #E2EBFA;\n",
              "      box-shadow: 0px 1px 2px rgba(60, 64, 67, 0.3), 0px 1px 3px 1px rgba(60, 64, 67, 0.15);\n",
              "      fill: #174EA6;\n",
              "    }\n",
              "\n",
              "    [theme=dark] .colab-df-convert {\n",
              "      background-color: #3B4455;\n",
              "      fill: #D2E3FC;\n",
              "    }\n",
              "\n",
              "    [theme=dark] .colab-df-convert:hover {\n",
              "      background-color: #434B5C;\n",
              "      box-shadow: 0px 1px 3px 1px rgba(0, 0, 0, 0.15);\n",
              "      filter: drop-shadow(0px 1px 2px rgba(0, 0, 0, 0.3));\n",
              "      fill: #FFFFFF;\n",
              "    }\n",
              "  </style>\n",
              "\n",
              "      <script>\n",
              "        const buttonEl =\n",
              "          document.querySelector('#df-610146ef-89f6-4af2-8207-6ee5690200fb button.colab-df-convert');\n",
              "        buttonEl.style.display =\n",
              "          google.colab.kernel.accessAllowed ? 'block' : 'none';\n",
              "\n",
              "        async function convertToInteractive(key) {\n",
              "          const element = document.querySelector('#df-610146ef-89f6-4af2-8207-6ee5690200fb');\n",
              "          const dataTable =\n",
              "            await google.colab.kernel.invokeFunction('convertToInteractive',\n",
              "                                                     [key], {});\n",
              "          if (!dataTable) return;\n",
              "\n",
              "          const docLinkHtml = 'Like what you see? Visit the ' +\n",
              "            '<a target=\"_blank\" href=https://colab.research.google.com/notebooks/data_table.ipynb>data table notebook</a>'\n",
              "            + ' to learn more about interactive tables.';\n",
              "          element.innerHTML = '';\n",
              "          dataTable['output_type'] = 'display_data';\n",
              "          await google.colab.output.renderOutput(dataTable, element);\n",
              "          const docLink = document.createElement('div');\n",
              "          docLink.innerHTML = docLinkHtml;\n",
              "          element.appendChild(docLink);\n",
              "        }\n",
              "      </script>\n",
              "    </div>\n",
              "  </div>\n",
              "  "
            ]
          },
          "metadata": {},
          "execution_count": 3
        }
      ]
    },
    {
      "cell_type": "markdown",
      "source": [
        "**Dataset information**\n",
        "1. Date : (DD/MM/YYYY) Day, month ('june' to 'september'), year (2012) Weather data observations\n",
        "2. Temp : temperature noon (temperature max) in Celsius degrees: 22 to 42\n",
        "3. RH : Relative Humidity in %: 21 to 90\n",
        "4. Ws :Wind speed in km/h: 6 to 29\n",
        "5. Rain: total day in mm: 0 to 16.8 FWI Components\n",
        "6. Fine Fuel Moisture Code (FFMC) index from the FWI system: 28.6 to 92.5\n",
        "7. Duff Moisture Code (DMC) index from the FWI system: 1.1 to 65.9\n",
        "8. Drought Code (DC) index from the FWI system: 7 to 220.4\n",
        "9. Initial Spread Index (ISI) index from the FWI system: 0 to 18.5\n",
        "10. Buildup Index (BUI) index from the FWI system: 1.1 to 68\n",
        "11. Fire Weather Index (FWI) Index: 0 to 31.1\n",
        "12. Classes: two classes, namely fire and not fire\n",
        "13. Region : Manually created column based on two region i.e., Bejaia Region Dataset and Sidi-Bel Abbes Region Dataset. This column is created just to classify both the regions"
      ],
      "metadata": {
        "id": "EIP5QyDtuQ10"
      }
    },
    {
      "cell_type": "markdown",
      "source": [
        "**Data Checks and cleaning**"
      ],
      "metadata": {
        "id": "-Ax9t4B-uFto"
      }
    },
    {
      "cell_type": "markdown",
      "source": [
        "**Checking Null Values**"
      ],
      "metadata": {
        "id": "mUkDc3i0FGoj"
      }
    },
    {
      "cell_type": "code",
      "source": [
        "df[df.isnull().any(axis=1)]"
      ],
      "metadata": {
        "colab": {
          "base_uri": "https://localhost:8080/",
          "height": 112
        },
        "id": "1pQhp8RN6wp9",
        "outputId": "ce7bc2be-2b9d-4463-f0e1-655f62cf7107"
      },
      "execution_count": 4,
      "outputs": [
        {
          "output_type": "execute_result",
          "data": {
            "text/plain": [
              "                               day month  year Temperature   RH   Ws Rain   \\\n",
              "122  Sidi-Bel Abbes Region Dataset   NaN   NaN         NaN  NaN  NaN   NaN   \n",
              "167                             14    07  2012          37   37   18   0.2   \n",
              "\n",
              "     FFMC   DMC      DC   ISI   BUI      FWI Classes    \n",
              "122   NaN   NaN     NaN   NaN   NaN      NaN       NaN  \n",
              "167  88.9  12.9  14.6 9  12.5  10.4  fire          NaN  "
            ],
            "text/html": [
              "\n",
              "  <div id=\"df-89b0dfcf-4ba0-47dc-9595-ef5f2690af3b\">\n",
              "    <div class=\"colab-df-container\">\n",
              "      <div>\n",
              "<style scoped>\n",
              "    .dataframe tbody tr th:only-of-type {\n",
              "        vertical-align: middle;\n",
              "    }\n",
              "\n",
              "    .dataframe tbody tr th {\n",
              "        vertical-align: top;\n",
              "    }\n",
              "\n",
              "    .dataframe thead th {\n",
              "        text-align: right;\n",
              "    }\n",
              "</style>\n",
              "<table border=\"1\" class=\"dataframe\">\n",
              "  <thead>\n",
              "    <tr style=\"text-align: right;\">\n",
              "      <th></th>\n",
              "      <th>day</th>\n",
              "      <th>month</th>\n",
              "      <th>year</th>\n",
              "      <th>Temperature</th>\n",
              "      <th>RH</th>\n",
              "      <th>Ws</th>\n",
              "      <th>Rain</th>\n",
              "      <th>FFMC</th>\n",
              "      <th>DMC</th>\n",
              "      <th>DC</th>\n",
              "      <th>ISI</th>\n",
              "      <th>BUI</th>\n",
              "      <th>FWI</th>\n",
              "      <th>Classes</th>\n",
              "    </tr>\n",
              "  </thead>\n",
              "  <tbody>\n",
              "    <tr>\n",
              "      <th>122</th>\n",
              "      <td>Sidi-Bel Abbes Region Dataset</td>\n",
              "      <td>NaN</td>\n",
              "      <td>NaN</td>\n",
              "      <td>NaN</td>\n",
              "      <td>NaN</td>\n",
              "      <td>NaN</td>\n",
              "      <td>NaN</td>\n",
              "      <td>NaN</td>\n",
              "      <td>NaN</td>\n",
              "      <td>NaN</td>\n",
              "      <td>NaN</td>\n",
              "      <td>NaN</td>\n",
              "      <td>NaN</td>\n",
              "      <td>NaN</td>\n",
              "    </tr>\n",
              "    <tr>\n",
              "      <th>167</th>\n",
              "      <td>14</td>\n",
              "      <td>07</td>\n",
              "      <td>2012</td>\n",
              "      <td>37</td>\n",
              "      <td>37</td>\n",
              "      <td>18</td>\n",
              "      <td>0.2</td>\n",
              "      <td>88.9</td>\n",
              "      <td>12.9</td>\n",
              "      <td>14.6 9</td>\n",
              "      <td>12.5</td>\n",
              "      <td>10.4</td>\n",
              "      <td>fire</td>\n",
              "      <td>NaN</td>\n",
              "    </tr>\n",
              "  </tbody>\n",
              "</table>\n",
              "</div>\n",
              "      <button class=\"colab-df-convert\" onclick=\"convertToInteractive('df-89b0dfcf-4ba0-47dc-9595-ef5f2690af3b')\"\n",
              "              title=\"Convert this dataframe to an interactive table.\"\n",
              "              style=\"display:none;\">\n",
              "        \n",
              "  <svg xmlns=\"http://www.w3.org/2000/svg\" height=\"24px\"viewBox=\"0 0 24 24\"\n",
              "       width=\"24px\">\n",
              "    <path d=\"M0 0h24v24H0V0z\" fill=\"none\"/>\n",
              "    <path d=\"M18.56 5.44l.94 2.06.94-2.06 2.06-.94-2.06-.94-.94-2.06-.94 2.06-2.06.94zm-11 1L8.5 8.5l.94-2.06 2.06-.94-2.06-.94L8.5 2.5l-.94 2.06-2.06.94zm10 10l.94 2.06.94-2.06 2.06-.94-2.06-.94-.94-2.06-.94 2.06-2.06.94z\"/><path d=\"M17.41 7.96l-1.37-1.37c-.4-.4-.92-.59-1.43-.59-.52 0-1.04.2-1.43.59L10.3 9.45l-7.72 7.72c-.78.78-.78 2.05 0 2.83L4 21.41c.39.39.9.59 1.41.59.51 0 1.02-.2 1.41-.59l7.78-7.78 2.81-2.81c.8-.78.8-2.07 0-2.86zM5.41 20L4 18.59l7.72-7.72 1.47 1.35L5.41 20z\"/>\n",
              "  </svg>\n",
              "      </button>\n",
              "      \n",
              "  <style>\n",
              "    .colab-df-container {\n",
              "      display:flex;\n",
              "      flex-wrap:wrap;\n",
              "      gap: 12px;\n",
              "    }\n",
              "\n",
              "    .colab-df-convert {\n",
              "      background-color: #E8F0FE;\n",
              "      border: none;\n",
              "      border-radius: 50%;\n",
              "      cursor: pointer;\n",
              "      display: none;\n",
              "      fill: #1967D2;\n",
              "      height: 32px;\n",
              "      padding: 0 0 0 0;\n",
              "      width: 32px;\n",
              "    }\n",
              "\n",
              "    .colab-df-convert:hover {\n",
              "      background-color: #E2EBFA;\n",
              "      box-shadow: 0px 1px 2px rgba(60, 64, 67, 0.3), 0px 1px 3px 1px rgba(60, 64, 67, 0.15);\n",
              "      fill: #174EA6;\n",
              "    }\n",
              "\n",
              "    [theme=dark] .colab-df-convert {\n",
              "      background-color: #3B4455;\n",
              "      fill: #D2E3FC;\n",
              "    }\n",
              "\n",
              "    [theme=dark] .colab-df-convert:hover {\n",
              "      background-color: #434B5C;\n",
              "      box-shadow: 0px 1px 3px 1px rgba(0, 0, 0, 0.15);\n",
              "      filter: drop-shadow(0px 1px 2px rgba(0, 0, 0, 0.3));\n",
              "      fill: #FFFFFF;\n",
              "    }\n",
              "  </style>\n",
              "\n",
              "      <script>\n",
              "        const buttonEl =\n",
              "          document.querySelector('#df-89b0dfcf-4ba0-47dc-9595-ef5f2690af3b button.colab-df-convert');\n",
              "        buttonEl.style.display =\n",
              "          google.colab.kernel.accessAllowed ? 'block' : 'none';\n",
              "\n",
              "        async function convertToInteractive(key) {\n",
              "          const element = document.querySelector('#df-89b0dfcf-4ba0-47dc-9595-ef5f2690af3b');\n",
              "          const dataTable =\n",
              "            await google.colab.kernel.invokeFunction('convertToInteractive',\n",
              "                                                     [key], {});\n",
              "          if (!dataTable) return;\n",
              "\n",
              "          const docLinkHtml = 'Like what you see? Visit the ' +\n",
              "            '<a target=\"_blank\" href=https://colab.research.google.com/notebooks/data_table.ipynb>data table notebook</a>'\n",
              "            + ' to learn more about interactive tables.';\n",
              "          element.innerHTML = '';\n",
              "          dataTable['output_type'] = 'display_data';\n",
              "          await google.colab.output.renderOutput(dataTable, element);\n",
              "          const docLink = document.createElement('div');\n",
              "          docLink.innerHTML = docLinkHtml;\n",
              "          element.appendChild(docLink);\n",
              "        }\n",
              "      </script>\n",
              "    </div>\n",
              "  </div>\n",
              "  "
            ]
          },
          "metadata": {},
          "execution_count": 4
        }
      ]
    },
    {
      "cell_type": "markdown",
      "source": [
        "**Drop rows which have null value**"
      ],
      "metadata": {
        "id": "8760uHwuFMFM"
      }
    },
    {
      "cell_type": "code",
      "source": [
        "df.drop([122,123, 167],axis=0, inplace=True)\n",
        "df = df.reset_index()\n",
        "df.head()"
      ],
      "metadata": {
        "colab": {
          "base_uri": "https://localhost:8080/",
          "height": 206
        },
        "id": "VoqNqElN9cGt",
        "outputId": "1b498efa-d8d0-4c4d-8e9d-f721cf5e9da7"
      },
      "execution_count": 5,
      "outputs": [
        {
          "output_type": "execute_result",
          "data": {
            "text/plain": [
              "   index day month  year Temperature  RH  Ws Rain   FFMC  DMC    DC  ISI  BUI  \\\n",
              "0      0  01    06  2012          29  57  18     0  65.7  3.4   7.6  1.3  3.4   \n",
              "1      1  02    06  2012          29  61  13   1.3  64.4  4.1   7.6    1  3.9   \n",
              "2      2  03    06  2012          26  82  22  13.1  47.1  2.5   7.1  0.3  2.7   \n",
              "3      3  04    06  2012          25  89  13   2.5  28.6  1.3   6.9    0  1.7   \n",
              "4      4  05    06  2012          27  77  16     0  64.8    3  14.2  1.2  3.9   \n",
              "\n",
              "   FWI    Classes    \n",
              "0  0.5  not fire     \n",
              "1  0.4  not fire     \n",
              "2  0.1  not fire     \n",
              "3    0  not fire     \n",
              "4  0.5  not fire     "
            ],
            "text/html": [
              "\n",
              "  <div id=\"df-6d4b30b0-4e66-4d8e-b774-34c58a063185\">\n",
              "    <div class=\"colab-df-container\">\n",
              "      <div>\n",
              "<style scoped>\n",
              "    .dataframe tbody tr th:only-of-type {\n",
              "        vertical-align: middle;\n",
              "    }\n",
              "\n",
              "    .dataframe tbody tr th {\n",
              "        vertical-align: top;\n",
              "    }\n",
              "\n",
              "    .dataframe thead th {\n",
              "        text-align: right;\n",
              "    }\n",
              "</style>\n",
              "<table border=\"1\" class=\"dataframe\">\n",
              "  <thead>\n",
              "    <tr style=\"text-align: right;\">\n",
              "      <th></th>\n",
              "      <th>index</th>\n",
              "      <th>day</th>\n",
              "      <th>month</th>\n",
              "      <th>year</th>\n",
              "      <th>Temperature</th>\n",
              "      <th>RH</th>\n",
              "      <th>Ws</th>\n",
              "      <th>Rain</th>\n",
              "      <th>FFMC</th>\n",
              "      <th>DMC</th>\n",
              "      <th>DC</th>\n",
              "      <th>ISI</th>\n",
              "      <th>BUI</th>\n",
              "      <th>FWI</th>\n",
              "      <th>Classes</th>\n",
              "    </tr>\n",
              "  </thead>\n",
              "  <tbody>\n",
              "    <tr>\n",
              "      <th>0</th>\n",
              "      <td>0</td>\n",
              "      <td>01</td>\n",
              "      <td>06</td>\n",
              "      <td>2012</td>\n",
              "      <td>29</td>\n",
              "      <td>57</td>\n",
              "      <td>18</td>\n",
              "      <td>0</td>\n",
              "      <td>65.7</td>\n",
              "      <td>3.4</td>\n",
              "      <td>7.6</td>\n",
              "      <td>1.3</td>\n",
              "      <td>3.4</td>\n",
              "      <td>0.5</td>\n",
              "      <td>not fire</td>\n",
              "    </tr>\n",
              "    <tr>\n",
              "      <th>1</th>\n",
              "      <td>1</td>\n",
              "      <td>02</td>\n",
              "      <td>06</td>\n",
              "      <td>2012</td>\n",
              "      <td>29</td>\n",
              "      <td>61</td>\n",
              "      <td>13</td>\n",
              "      <td>1.3</td>\n",
              "      <td>64.4</td>\n",
              "      <td>4.1</td>\n",
              "      <td>7.6</td>\n",
              "      <td>1</td>\n",
              "      <td>3.9</td>\n",
              "      <td>0.4</td>\n",
              "      <td>not fire</td>\n",
              "    </tr>\n",
              "    <tr>\n",
              "      <th>2</th>\n",
              "      <td>2</td>\n",
              "      <td>03</td>\n",
              "      <td>06</td>\n",
              "      <td>2012</td>\n",
              "      <td>26</td>\n",
              "      <td>82</td>\n",
              "      <td>22</td>\n",
              "      <td>13.1</td>\n",
              "      <td>47.1</td>\n",
              "      <td>2.5</td>\n",
              "      <td>7.1</td>\n",
              "      <td>0.3</td>\n",
              "      <td>2.7</td>\n",
              "      <td>0.1</td>\n",
              "      <td>not fire</td>\n",
              "    </tr>\n",
              "    <tr>\n",
              "      <th>3</th>\n",
              "      <td>3</td>\n",
              "      <td>04</td>\n",
              "      <td>06</td>\n",
              "      <td>2012</td>\n",
              "      <td>25</td>\n",
              "      <td>89</td>\n",
              "      <td>13</td>\n",
              "      <td>2.5</td>\n",
              "      <td>28.6</td>\n",
              "      <td>1.3</td>\n",
              "      <td>6.9</td>\n",
              "      <td>0</td>\n",
              "      <td>1.7</td>\n",
              "      <td>0</td>\n",
              "      <td>not fire</td>\n",
              "    </tr>\n",
              "    <tr>\n",
              "      <th>4</th>\n",
              "      <td>4</td>\n",
              "      <td>05</td>\n",
              "      <td>06</td>\n",
              "      <td>2012</td>\n",
              "      <td>27</td>\n",
              "      <td>77</td>\n",
              "      <td>16</td>\n",
              "      <td>0</td>\n",
              "      <td>64.8</td>\n",
              "      <td>3</td>\n",
              "      <td>14.2</td>\n",
              "      <td>1.2</td>\n",
              "      <td>3.9</td>\n",
              "      <td>0.5</td>\n",
              "      <td>not fire</td>\n",
              "    </tr>\n",
              "  </tbody>\n",
              "</table>\n",
              "</div>\n",
              "      <button class=\"colab-df-convert\" onclick=\"convertToInteractive('df-6d4b30b0-4e66-4d8e-b774-34c58a063185')\"\n",
              "              title=\"Convert this dataframe to an interactive table.\"\n",
              "              style=\"display:none;\">\n",
              "        \n",
              "  <svg xmlns=\"http://www.w3.org/2000/svg\" height=\"24px\"viewBox=\"0 0 24 24\"\n",
              "       width=\"24px\">\n",
              "    <path d=\"M0 0h24v24H0V0z\" fill=\"none\"/>\n",
              "    <path d=\"M18.56 5.44l.94 2.06.94-2.06 2.06-.94-2.06-.94-.94-2.06-.94 2.06-2.06.94zm-11 1L8.5 8.5l.94-2.06 2.06-.94-2.06-.94L8.5 2.5l-.94 2.06-2.06.94zm10 10l.94 2.06.94-2.06 2.06-.94-2.06-.94-.94-2.06-.94 2.06-2.06.94z\"/><path d=\"M17.41 7.96l-1.37-1.37c-.4-.4-.92-.59-1.43-.59-.52 0-1.04.2-1.43.59L10.3 9.45l-7.72 7.72c-.78.78-.78 2.05 0 2.83L4 21.41c.39.39.9.59 1.41.59.51 0 1.02-.2 1.41-.59l7.78-7.78 2.81-2.81c.8-.78.8-2.07 0-2.86zM5.41 20L4 18.59l7.72-7.72 1.47 1.35L5.41 20z\"/>\n",
              "  </svg>\n",
              "      </button>\n",
              "      \n",
              "  <style>\n",
              "    .colab-df-container {\n",
              "      display:flex;\n",
              "      flex-wrap:wrap;\n",
              "      gap: 12px;\n",
              "    }\n",
              "\n",
              "    .colab-df-convert {\n",
              "      background-color: #E8F0FE;\n",
              "      border: none;\n",
              "      border-radius: 50%;\n",
              "      cursor: pointer;\n",
              "      display: none;\n",
              "      fill: #1967D2;\n",
              "      height: 32px;\n",
              "      padding: 0 0 0 0;\n",
              "      width: 32px;\n",
              "    }\n",
              "\n",
              "    .colab-df-convert:hover {\n",
              "      background-color: #E2EBFA;\n",
              "      box-shadow: 0px 1px 2px rgba(60, 64, 67, 0.3), 0px 1px 3px 1px rgba(60, 64, 67, 0.15);\n",
              "      fill: #174EA6;\n",
              "    }\n",
              "\n",
              "    [theme=dark] .colab-df-convert {\n",
              "      background-color: #3B4455;\n",
              "      fill: #D2E3FC;\n",
              "    }\n",
              "\n",
              "    [theme=dark] .colab-df-convert:hover {\n",
              "      background-color: #434B5C;\n",
              "      box-shadow: 0px 1px 3px 1px rgba(0, 0, 0, 0.15);\n",
              "      filter: drop-shadow(0px 1px 2px rgba(0, 0, 0, 0.3));\n",
              "      fill: #FFFFFF;\n",
              "    }\n",
              "  </style>\n",
              "\n",
              "      <script>\n",
              "        const buttonEl =\n",
              "          document.querySelector('#df-6d4b30b0-4e66-4d8e-b774-34c58a063185 button.colab-df-convert');\n",
              "        buttonEl.style.display =\n",
              "          google.colab.kernel.accessAllowed ? 'block' : 'none';\n",
              "\n",
              "        async function convertToInteractive(key) {\n",
              "          const element = document.querySelector('#df-6d4b30b0-4e66-4d8e-b774-34c58a063185');\n",
              "          const dataTable =\n",
              "            await google.colab.kernel.invokeFunction('convertToInteractive',\n",
              "                                                     [key], {});\n",
              "          if (!dataTable) return;\n",
              "\n",
              "          const docLinkHtml = 'Like what you see? Visit the ' +\n",
              "            '<a target=\"_blank\" href=https://colab.research.google.com/notebooks/data_table.ipynb>data table notebook</a>'\n",
              "            + ' to learn more about interactive tables.';\n",
              "          element.innerHTML = '';\n",
              "          dataTable['output_type'] = 'display_data';\n",
              "          await google.colab.output.renderOutput(dataTable, element);\n",
              "          const docLink = document.createElement('div');\n",
              "          docLink.innerHTML = docLinkHtml;\n",
              "          element.appendChild(docLink);\n",
              "        }\n",
              "      </script>\n",
              "    </div>\n",
              "  </div>\n",
              "  "
            ]
          },
          "metadata": {},
          "execution_count": 5
        }
      ]
    },
    {
      "cell_type": "markdown",
      "source": [
        "**Show all the columns**"
      ],
      "metadata": {
        "id": "UulvNxEBFR_h"
      }
    },
    {
      "cell_type": "code",
      "source": [
        "df.columns"
      ],
      "metadata": {
        "colab": {
          "base_uri": "https://localhost:8080/"
        },
        "id": "aZNxP9UU9j3E",
        "outputId": "d48221cb-982a-4287-d5ea-67a8a823cf32"
      },
      "execution_count": 6,
      "outputs": [
        {
          "output_type": "execute_result",
          "data": {
            "text/plain": [
              "Index(['index', 'day', 'month', 'year', 'Temperature', ' RH', ' Ws', 'Rain ',\n",
              "       'FFMC', 'DMC', 'DC', 'ISI', 'BUI', 'FWI', 'Classes  '],\n",
              "      dtype='object')"
            ]
          },
          "metadata": {},
          "execution_count": 6
        }
      ]
    },
    {
      "cell_type": "markdown",
      "source": [
        "**Column name having extra space**"
      ],
      "metadata": {
        "id": "_4cSFWKPFXET"
      }
    },
    {
      "cell_type": "code",
      "source": [
        "[x for x in df.columns if ' ' in x]"
      ],
      "metadata": {
        "colab": {
          "base_uri": "https://localhost:8080/"
        },
        "id": "iu3FidpvAKy8",
        "outputId": "b0fde5ea-aa23-4bb5-d937-bfe0bd0e9df3"
      },
      "execution_count": 7,
      "outputs": [
        {
          "output_type": "execute_result",
          "data": {
            "text/plain": [
              "[' RH', ' Ws', 'Rain ', 'Classes  ']"
            ]
          },
          "metadata": {},
          "execution_count": 7
        }
      ]
    },
    {
      "cell_type": "markdown",
      "source": [
        "**Remove extra space in column names**"
      ],
      "metadata": {
        "id": "QJICj6lXFbZt"
      }
    },
    {
      "cell_type": "code",
      "source": [
        "df.columns = df.columns.str.strip()\n",
        "df.columns"
      ],
      "metadata": {
        "colab": {
          "base_uri": "https://localhost:8080/"
        },
        "id": "8JcI-Xg9AdZq",
        "outputId": "81966b7b-a806-4e2e-b636-2f67760ed4fd"
      },
      "execution_count": 8,
      "outputs": [
        {
          "output_type": "execute_result",
          "data": {
            "text/plain": [
              "Index(['index', 'day', 'month', 'year', 'Temperature', 'RH', 'Ws', 'Rain',\n",
              "       'FFMC', 'DMC', 'DC', 'ISI', 'BUI', 'FWI', 'Classes'],\n",
              "      dtype='object')"
            ]
          },
          "metadata": {},
          "execution_count": 8
        }
      ]
    },
    {
      "cell_type": "markdown",
      "source": [
        "**Function to remove extra space in the data**"
      ],
      "metadata": {
        "id": "QMA_h6TYFn0e"
      }
    },
    {
      "cell_type": "code",
      "source": [
        "import re\n",
        "def Remove_Extra_Space(x):\n",
        "  return (re.sub(' +', ' ', x).strip())"
      ],
      "metadata": {
        "id": "1cPk13OfAlvO"
      },
      "execution_count": 9,
      "outputs": []
    },
    {
      "cell_type": "markdown",
      "source": [
        "**Remove extra space in the data**"
      ],
      "metadata": {
        "id": "Q1zUWxxfFtrZ"
      }
    },
    {
      "cell_type": "code",
      "source": [
        "df['Classes'] = df['Classes'].apply(Remove_Extra_Space)"
      ],
      "metadata": {
        "id": "uqpShuZPCASp"
      },
      "execution_count": 10,
      "outputs": []
    },
    {
      "cell_type": "markdown",
      "source": [
        "**Drop extra index column, which was created for reset_index**"
      ],
      "metadata": {
        "id": "4SKChYiTFyiN"
      }
    },
    {
      "cell_type": "code",
      "source": [
        "df.drop(['index'],axis=1, inplace=True)"
      ],
      "metadata": {
        "id": "2S-lPN19DGJF"
      },
      "execution_count": 11,
      "outputs": []
    },
    {
      "cell_type": "markdown",
      "source": [
        "**Create data feature with the help of day, month and year feature and converted to datetime**"
      ],
      "metadata": {
        "id": "32pEKEE_iDmZ"
      }
    },
    {
      "cell_type": "code",
      "source": [
        "df['date'] = pd.to_datetime(df[['day', 'month', 'year']])"
      ],
      "metadata": {
        "id": "nXCbiXf3DJSN"
      },
      "execution_count": 12,
      "outputs": []
    },
    {
      "cell_type": "markdown",
      "source": [
        "**Drop day, month and year feature**"
      ],
      "metadata": {
        "id": "86Tfzu40iXtk"
      }
    },
    {
      "cell_type": "code",
      "source": [
        "df.drop(['day', 'month', 'year'], axis = 1, inplace = True)"
      ],
      "metadata": {
        "id": "m0eZfOtjDWOE"
      },
      "execution_count": 13,
      "outputs": []
    },
    {
      "cell_type": "markdown",
      "source": [
        "**Create one region,just to identify the two region i.e.,Sidi-Bel Abbes Region and Bejaia Region**"
      ],
      "metadata": {
        "id": "CRkqMpFqiffB"
      }
    },
    {
      "cell_type": "code",
      "source": [
        "df.loc[:122, 'Region'] = 0\n",
        "df.loc[122:, 'Region'] = 1"
      ],
      "metadata": {
        "id": "IzBE3o5aDhIl"
      },
      "execution_count": 14,
      "outputs": []
    },
    {
      "cell_type": "markdown",
      "source": [
        "**check null values in all the features**"
      ],
      "metadata": {
        "id": "x11qLxYFjIRA"
      }
    },
    {
      "cell_type": "code",
      "source": [
        "df.isnull().sum()"
      ],
      "metadata": {
        "colab": {
          "base_uri": "https://localhost:8080/"
        },
        "id": "wF7dBYJtOrUG",
        "outputId": "35a7083e-ba91-487a-c55c-5ca28d299d44"
      },
      "execution_count": 15,
      "outputs": [
        {
          "output_type": "execute_result",
          "data": {
            "text/plain": [
              "Temperature    0\n",
              "RH             0\n",
              "Ws             0\n",
              "Rain           0\n",
              "FFMC           0\n",
              "DMC            0\n",
              "DC             0\n",
              "ISI            0\n",
              "BUI            0\n",
              "FWI            0\n",
              "Classes        0\n",
              "date           0\n",
              "Region         0\n",
              "dtype: int64"
            ]
          },
          "metadata": {},
          "execution_count": 15
        }
      ]
    },
    {
      "cell_type": "markdown",
      "source": [
        "**Map classes feature as 1 and 0 for fire and not fire respectively**"
      ],
      "metadata": {
        "id": "qQmHfQbFjOqe"
      }
    },
    {
      "cell_type": "code",
      "source": [
        "df['Classes'] = df['Classes'].map({'not fire' : 0, 'fire': 1})"
      ],
      "metadata": {
        "id": "0c-Yqx8dPHCm"
      },
      "execution_count": 16,
      "outputs": []
    },
    {
      "cell_type": "markdown",
      "source": [
        "**Check duplictes values in all the column**"
      ],
      "metadata": {
        "id": "hahWKfm9jzEK"
      }
    },
    {
      "cell_type": "code",
      "source": [
        "df.duplicated().sum()"
      ],
      "metadata": {
        "colab": {
          "base_uri": "https://localhost:8080/"
        },
        "id": "38INRpIjPRle",
        "outputId": "a655f0a9-0e9a-4956-f3c1-e543b3bd0332"
      },
      "execution_count": 17,
      "outputs": [
        {
          "output_type": "execute_result",
          "data": {
            "text/plain": [
              "0"
            ]
          },
          "metadata": {},
          "execution_count": 17
        }
      ]
    },
    {
      "cell_type": "markdown",
      "source": [
        "**Check data types of all the features**"
      ],
      "metadata": {
        "id": "VhUab2clj278"
      }
    },
    {
      "cell_type": "code",
      "source": [
        "df.dtypes"
      ],
      "metadata": {
        "colab": {
          "base_uri": "https://localhost:8080/"
        },
        "id": "CseOgKcQQATj",
        "outputId": "188aca8b-80c1-4233-c41a-b91100f4c6bb"
      },
      "execution_count": 18,
      "outputs": [
        {
          "output_type": "execute_result",
          "data": {
            "text/plain": [
              "Temperature            object\n",
              "RH                     object\n",
              "Ws                     object\n",
              "Rain                   object\n",
              "FFMC                   object\n",
              "DMC                    object\n",
              "DC                     object\n",
              "ISI                    object\n",
              "BUI                    object\n",
              "FWI                    object\n",
              "Classes                 int64\n",
              "date           datetime64[ns]\n",
              "Region                float64\n",
              "dtype: object"
            ]
          },
          "metadata": {},
          "execution_count": 18
        }
      ]
    },
    {
      "cell_type": "markdown",
      "source": [
        "**Convert features to its logical datatpe**"
      ],
      "metadata": {
        "id": "EQkwvstZj8oE"
      }
    },
    {
      "cell_type": "code",
      "source": [
        "convert_data = {'Temperature' : 'float64', 'RH': 'float64', 'Ws': 'float64',\n",
        " 'DMC' : 'float64', 'DC' : 'float64', 'ISI': 'float64', 'BUI': 'float64', 'FWI' : 'float64', \n",
        " 'Region' : 'object', 'Rain' : 'float64', 'FFMC' : 'float64' , 'Classes':'object'}\n",
        "df = df.astype(convert_data)"
      ],
      "metadata": {
        "id": "DXxC35MNQF3O"
      },
      "execution_count": 19,
      "outputs": []
    },
    {
      "cell_type": "markdown",
      "source": [
        "**Converted datatpyes**"
      ],
      "metadata": {
        "id": "9Zx3tf0Jk-Mi"
      }
    },
    {
      "cell_type": "code",
      "source": [
        "df.dtypes"
      ],
      "metadata": {
        "colab": {
          "base_uri": "https://localhost:8080/"
        },
        "id": "NKhf75ZuQ3ll",
        "outputId": "c0ad55e4-3235-42d2-be06-b2cb208f2127"
      },
      "execution_count": 20,
      "outputs": [
        {
          "output_type": "execute_result",
          "data": {
            "text/plain": [
              "Temperature           float64\n",
              "RH                    float64\n",
              "Ws                    float64\n",
              "Rain                  float64\n",
              "FFMC                  float64\n",
              "DMC                   float64\n",
              "DC                    float64\n",
              "ISI                   float64\n",
              "BUI                   float64\n",
              "FWI                   float64\n",
              "Classes                object\n",
              "date           datetime64[ns]\n",
              "Region                 object\n",
              "dtype: object"
            ]
          },
          "metadata": {},
          "execution_count": 20
        }
      ]
    },
    {
      "cell_type": "markdown",
      "source": [
        "**Check unique values in all the features**"
      ],
      "metadata": {
        "id": "ofHYrD5IlB78"
      }
    },
    {
      "cell_type": "code",
      "source": [
        "df.nunique()"
      ],
      "metadata": {
        "colab": {
          "base_uri": "https://localhost:8080/"
        },
        "id": "qHfcIN5nQ4tW",
        "outputId": "3c957751-0fb6-4b83-c305-838e8ca0d09e"
      },
      "execution_count": 21,
      "outputs": [
        {
          "output_type": "execute_result",
          "data": {
            "text/plain": [
              "Temperature     19\n",
              "RH              62\n",
              "Ws              18\n",
              "Rain            39\n",
              "FFMC           173\n",
              "DMC            165\n",
              "DC             197\n",
              "ISI            106\n",
              "BUI            173\n",
              "FWI            125\n",
              "Classes          2\n",
              "date           122\n",
              "Region           2\n",
              "dtype: int64"
            ]
          },
          "metadata": {},
          "execution_count": 21
        }
      ]
    },
    {
      "cell_type": "markdown",
      "source": [
        "**Check statistics of dataset**"
      ],
      "metadata": {
        "id": "rV5anHDFlO3X"
      }
    },
    {
      "cell_type": "code",
      "source": [
        "df.describe()"
      ],
      "metadata": {
        "colab": {
          "base_uri": "https://localhost:8080/",
          "height": 300
        },
        "id": "EXB3MyYmRLIm",
        "outputId": "0f6db2a5-df0a-4fdf-f04a-2897819150dd"
      },
      "execution_count": 22,
      "outputs": [
        {
          "output_type": "execute_result",
          "data": {
            "text/plain": [
              "       Temperature          RH          Ws        Rain        FFMC  \\\n",
              "count   243.000000  243.000000  243.000000  243.000000  243.000000   \n",
              "mean     32.152263   62.041152   15.493827    0.762963   77.842387   \n",
              "std       3.628039   14.828160    2.811385    2.003207   14.349641   \n",
              "min      22.000000   21.000000    6.000000    0.000000   28.600000   \n",
              "25%      30.000000   52.500000   14.000000    0.000000   71.850000   \n",
              "50%      32.000000   63.000000   15.000000    0.000000   83.300000   \n",
              "75%      35.000000   73.500000   17.000000    0.500000   88.300000   \n",
              "max      42.000000   90.000000   29.000000   16.800000   96.000000   \n",
              "\n",
              "              DMC          DC         ISI         BUI         FWI  \n",
              "count  243.000000  243.000000  243.000000  243.000000  243.000000  \n",
              "mean    14.680658   49.430864    4.742387   16.690535    7.035391  \n",
              "std     12.393040   47.665606    4.154234   14.228421    7.440568  \n",
              "min      0.700000    6.900000    0.000000    1.100000    0.000000  \n",
              "25%      5.800000   12.350000    1.400000    6.000000    0.700000  \n",
              "50%     11.300000   33.100000    3.500000   12.400000    4.200000  \n",
              "75%     20.800000   69.100000    7.250000   22.650000   11.450000  \n",
              "max     65.900000  220.400000   19.000000   68.000000   31.100000  "
            ],
            "text/html": [
              "\n",
              "  <div id=\"df-331f2bb0-ce7d-4e6b-bc3c-1db96b3a4d72\">\n",
              "    <div class=\"colab-df-container\">\n",
              "      <div>\n",
              "<style scoped>\n",
              "    .dataframe tbody tr th:only-of-type {\n",
              "        vertical-align: middle;\n",
              "    }\n",
              "\n",
              "    .dataframe tbody tr th {\n",
              "        vertical-align: top;\n",
              "    }\n",
              "\n",
              "    .dataframe thead th {\n",
              "        text-align: right;\n",
              "    }\n",
              "</style>\n",
              "<table border=\"1\" class=\"dataframe\">\n",
              "  <thead>\n",
              "    <tr style=\"text-align: right;\">\n",
              "      <th></th>\n",
              "      <th>Temperature</th>\n",
              "      <th>RH</th>\n",
              "      <th>Ws</th>\n",
              "      <th>Rain</th>\n",
              "      <th>FFMC</th>\n",
              "      <th>DMC</th>\n",
              "      <th>DC</th>\n",
              "      <th>ISI</th>\n",
              "      <th>BUI</th>\n",
              "      <th>FWI</th>\n",
              "    </tr>\n",
              "  </thead>\n",
              "  <tbody>\n",
              "    <tr>\n",
              "      <th>count</th>\n",
              "      <td>243.000000</td>\n",
              "      <td>243.000000</td>\n",
              "      <td>243.000000</td>\n",
              "      <td>243.000000</td>\n",
              "      <td>243.000000</td>\n",
              "      <td>243.000000</td>\n",
              "      <td>243.000000</td>\n",
              "      <td>243.000000</td>\n",
              "      <td>243.000000</td>\n",
              "      <td>243.000000</td>\n",
              "    </tr>\n",
              "    <tr>\n",
              "      <th>mean</th>\n",
              "      <td>32.152263</td>\n",
              "      <td>62.041152</td>\n",
              "      <td>15.493827</td>\n",
              "      <td>0.762963</td>\n",
              "      <td>77.842387</td>\n",
              "      <td>14.680658</td>\n",
              "      <td>49.430864</td>\n",
              "      <td>4.742387</td>\n",
              "      <td>16.690535</td>\n",
              "      <td>7.035391</td>\n",
              "    </tr>\n",
              "    <tr>\n",
              "      <th>std</th>\n",
              "      <td>3.628039</td>\n",
              "      <td>14.828160</td>\n",
              "      <td>2.811385</td>\n",
              "      <td>2.003207</td>\n",
              "      <td>14.349641</td>\n",
              "      <td>12.393040</td>\n",
              "      <td>47.665606</td>\n",
              "      <td>4.154234</td>\n",
              "      <td>14.228421</td>\n",
              "      <td>7.440568</td>\n",
              "    </tr>\n",
              "    <tr>\n",
              "      <th>min</th>\n",
              "      <td>22.000000</td>\n",
              "      <td>21.000000</td>\n",
              "      <td>6.000000</td>\n",
              "      <td>0.000000</td>\n",
              "      <td>28.600000</td>\n",
              "      <td>0.700000</td>\n",
              "      <td>6.900000</td>\n",
              "      <td>0.000000</td>\n",
              "      <td>1.100000</td>\n",
              "      <td>0.000000</td>\n",
              "    </tr>\n",
              "    <tr>\n",
              "      <th>25%</th>\n",
              "      <td>30.000000</td>\n",
              "      <td>52.500000</td>\n",
              "      <td>14.000000</td>\n",
              "      <td>0.000000</td>\n",
              "      <td>71.850000</td>\n",
              "      <td>5.800000</td>\n",
              "      <td>12.350000</td>\n",
              "      <td>1.400000</td>\n",
              "      <td>6.000000</td>\n",
              "      <td>0.700000</td>\n",
              "    </tr>\n",
              "    <tr>\n",
              "      <th>50%</th>\n",
              "      <td>32.000000</td>\n",
              "      <td>63.000000</td>\n",
              "      <td>15.000000</td>\n",
              "      <td>0.000000</td>\n",
              "      <td>83.300000</td>\n",
              "      <td>11.300000</td>\n",
              "      <td>33.100000</td>\n",
              "      <td>3.500000</td>\n",
              "      <td>12.400000</td>\n",
              "      <td>4.200000</td>\n",
              "    </tr>\n",
              "    <tr>\n",
              "      <th>75%</th>\n",
              "      <td>35.000000</td>\n",
              "      <td>73.500000</td>\n",
              "      <td>17.000000</td>\n",
              "      <td>0.500000</td>\n",
              "      <td>88.300000</td>\n",
              "      <td>20.800000</td>\n",
              "      <td>69.100000</td>\n",
              "      <td>7.250000</td>\n",
              "      <td>22.650000</td>\n",
              "      <td>11.450000</td>\n",
              "    </tr>\n",
              "    <tr>\n",
              "      <th>max</th>\n",
              "      <td>42.000000</td>\n",
              "      <td>90.000000</td>\n",
              "      <td>29.000000</td>\n",
              "      <td>16.800000</td>\n",
              "      <td>96.000000</td>\n",
              "      <td>65.900000</td>\n",
              "      <td>220.400000</td>\n",
              "      <td>19.000000</td>\n",
              "      <td>68.000000</td>\n",
              "      <td>31.100000</td>\n",
              "    </tr>\n",
              "  </tbody>\n",
              "</table>\n",
              "</div>\n",
              "      <button class=\"colab-df-convert\" onclick=\"convertToInteractive('df-331f2bb0-ce7d-4e6b-bc3c-1db96b3a4d72')\"\n",
              "              title=\"Convert this dataframe to an interactive table.\"\n",
              "              style=\"display:none;\">\n",
              "        \n",
              "  <svg xmlns=\"http://www.w3.org/2000/svg\" height=\"24px\"viewBox=\"0 0 24 24\"\n",
              "       width=\"24px\">\n",
              "    <path d=\"M0 0h24v24H0V0z\" fill=\"none\"/>\n",
              "    <path d=\"M18.56 5.44l.94 2.06.94-2.06 2.06-.94-2.06-.94-.94-2.06-.94 2.06-2.06.94zm-11 1L8.5 8.5l.94-2.06 2.06-.94-2.06-.94L8.5 2.5l-.94 2.06-2.06.94zm10 10l.94 2.06.94-2.06 2.06-.94-2.06-.94-.94-2.06-.94 2.06-2.06.94z\"/><path d=\"M17.41 7.96l-1.37-1.37c-.4-.4-.92-.59-1.43-.59-.52 0-1.04.2-1.43.59L10.3 9.45l-7.72 7.72c-.78.78-.78 2.05 0 2.83L4 21.41c.39.39.9.59 1.41.59.51 0 1.02-.2 1.41-.59l7.78-7.78 2.81-2.81c.8-.78.8-2.07 0-2.86zM5.41 20L4 18.59l7.72-7.72 1.47 1.35L5.41 20z\"/>\n",
              "  </svg>\n",
              "      </button>\n",
              "      \n",
              "  <style>\n",
              "    .colab-df-container {\n",
              "      display:flex;\n",
              "      flex-wrap:wrap;\n",
              "      gap: 12px;\n",
              "    }\n",
              "\n",
              "    .colab-df-convert {\n",
              "      background-color: #E8F0FE;\n",
              "      border: none;\n",
              "      border-radius: 50%;\n",
              "      cursor: pointer;\n",
              "      display: none;\n",
              "      fill: #1967D2;\n",
              "      height: 32px;\n",
              "      padding: 0 0 0 0;\n",
              "      width: 32px;\n",
              "    }\n",
              "\n",
              "    .colab-df-convert:hover {\n",
              "      background-color: #E2EBFA;\n",
              "      box-shadow: 0px 1px 2px rgba(60, 64, 67, 0.3), 0px 1px 3px 1px rgba(60, 64, 67, 0.15);\n",
              "      fill: #174EA6;\n",
              "    }\n",
              "\n",
              "    [theme=dark] .colab-df-convert {\n",
              "      background-color: #3B4455;\n",
              "      fill: #D2E3FC;\n",
              "    }\n",
              "\n",
              "    [theme=dark] .colab-df-convert:hover {\n",
              "      background-color: #434B5C;\n",
              "      box-shadow: 0px 1px 3px 1px rgba(0, 0, 0, 0.15);\n",
              "      filter: drop-shadow(0px 1px 2px rgba(0, 0, 0, 0.3));\n",
              "      fill: #FFFFFF;\n",
              "    }\n",
              "  </style>\n",
              "\n",
              "      <script>\n",
              "        const buttonEl =\n",
              "          document.querySelector('#df-331f2bb0-ce7d-4e6b-bc3c-1db96b3a4d72 button.colab-df-convert');\n",
              "        buttonEl.style.display =\n",
              "          google.colab.kernel.accessAllowed ? 'block' : 'none';\n",
              "\n",
              "        async function convertToInteractive(key) {\n",
              "          const element = document.querySelector('#df-331f2bb0-ce7d-4e6b-bc3c-1db96b3a4d72');\n",
              "          const dataTable =\n",
              "            await google.colab.kernel.invokeFunction('convertToInteractive',\n",
              "                                                     [key], {});\n",
              "          if (!dataTable) return;\n",
              "\n",
              "          const docLinkHtml = 'Like what you see? Visit the ' +\n",
              "            '<a target=\"_blank\" href=https://colab.research.google.com/notebooks/data_table.ipynb>data table notebook</a>'\n",
              "            + ' to learn more about interactive tables.';\n",
              "          element.innerHTML = '';\n",
              "          dataTable['output_type'] = 'display_data';\n",
              "          await google.colab.output.renderOutput(dataTable, element);\n",
              "          const docLink = document.createElement('div');\n",
              "          docLink.innerHTML = docLinkHtml;\n",
              "          element.appendChild(docLink);\n",
              "        }\n",
              "      </script>\n",
              "    </div>\n",
              "  </div>\n",
              "  "
            ]
          },
          "metadata": {},
          "execution_count": 22
        }
      ]
    },
    {
      "cell_type": "markdown",
      "source": [
        "**Observations**\n",
        "1. Maximum temperature and RH are 42 degree celsius and 90 % respectively\n",
        "2. Minimum rain is 0 mm\n"
      ],
      "metadata": {
        "id": "2pKlGqo0loeG"
      }
    },
    {
      "cell_type": "markdown",
      "source": [
        "**Segregate categorical feature from the dataset**"
      ],
      "metadata": {
        "id": "k4Eg52AJlTyi"
      }
    },
    {
      "cell_type": "code",
      "source": [
        "categorical_feature=[feature for feature in df.columns if df[feature].dtypes=='O']\n",
        "categorical_feature"
      ],
      "metadata": {
        "colab": {
          "base_uri": "https://localhost:8080/"
        },
        "id": "2Nt8WtE9RQkY",
        "outputId": "b7fe3c45-462d-4d3b-df51-36ea501c4f11"
      },
      "execution_count": 23,
      "outputs": [
        {
          "output_type": "execute_result",
          "data": {
            "text/plain": [
              "['Classes', 'Region']"
            ]
          },
          "metadata": {},
          "execution_count": 23
        }
      ]
    },
    {
      "cell_type": "code",
      "source": [
        "for feature in categorical_feature:\n",
        " print(df.groupby(feature)[feature].value_counts())"
      ],
      "metadata": {
        "colab": {
          "base_uri": "https://localhost:8080/"
        },
        "id": "QQxRCsiMRsL-",
        "outputId": "b1172882-492b-4e1a-ff84-82ae3f588243"
      },
      "execution_count": 24,
      "outputs": [
        {
          "output_type": "stream",
          "name": "stdout",
          "text": [
            "Classes  Classes\n",
            "0        0          106\n",
            "1        1          137\n",
            "Name: Classes, dtype: int64\n",
            "Region  Region\n",
            "0.0     0.0       122\n",
            "1.0     1.0       121\n",
            "Name: Region, dtype: int64\n"
          ]
        }
      ]
    },
    {
      "cell_type": "markdown",
      "source": [
        "**Segregate categorical feature from the dataset**"
      ],
      "metadata": {
        "id": "N1Ixh7CXlgYv"
      }
    },
    {
      "cell_type": "code",
      "source": [
        "numerical_features=[feature for feature in df.columns if df[feature].dtypes!='O']\n",
        "print(numerical_features)"
      ],
      "metadata": {
        "colab": {
          "base_uri": "https://localhost:8080/"
        },
        "id": "OqD1zuc5SLql",
        "outputId": "5673a106-68f0-4c4f-b549-05bbab4f82c0"
      },
      "execution_count": 25,
      "outputs": [
        {
          "output_type": "stream",
          "name": "stdout",
          "text": [
            "['Temperature', 'RH', 'Ws', 'Rain', 'FFMC', 'DMC', 'DC', 'ISI', 'BUI', 'FWI', 'date']\n"
          ]
        }
      ]
    },
    {
      "cell_type": "markdown",
      "source": [
        "# **Graphical Analysis**"
      ],
      "metadata": {
        "id": "TLeuzpB8l_nw"
      }
    },
    {
      "cell_type": "code",
      "source": [
        "plt.figure(figsize=(12,8))\n",
        "sns.countplot(data=df, x='Classes', hue='Region')"
      ],
      "metadata": {
        "colab": {
          "base_uri": "https://localhost:8080/",
          "height": 514
        },
        "id": "bJArJepeShSl",
        "outputId": "10384354-806c-4039-a7de-035bc754e60e"
      },
      "execution_count": 26,
      "outputs": [
        {
          "output_type": "execute_result",
          "data": {
            "text/plain": [
              "<matplotlib.axes._subplots.AxesSubplot at 0x7fec07a63410>"
            ]
          },
          "metadata": {},
          "execution_count": 26
        },
        {
          "output_type": "display_data",
          "data": {
            "text/plain": [
              "<Figure size 864x576 with 1 Axes>"
            ],
            "image/png": "[encoded data removed]"
          },
          "metadata": {
            "needs_background": "light"
          }
        }
      ]
    },
    {
      "cell_type": "markdown",
      "source": [
        "**Observation**\n",
        "* Sidi Bel-abbes region has more occurance of fire than Bejaia region\n"
      ],
      "metadata": {
        "id": "ixV4q0ObmFEE"
      }
    },
    {
      "cell_type": "code",
      "source": [
        "plt.figure(figsize=(12,8))\n",
        "sns.countplot(data = df, x = 'Rain', hue='Classes')"
      ],
      "metadata": {
        "colab": {
          "base_uri": "https://localhost:8080/",
          "height": 514
        },
        "id": "aiaNctpGSlU1",
        "outputId": "6a48781e-6cbf-414a-f57d-5d89e1975baa"
      },
      "execution_count": 27,
      "outputs": [
        {
          "output_type": "execute_result",
          "data": {
            "text/plain": [
              "<matplotlib.axes._subplots.AxesSubplot at 0x7fec06973290>"
            ]
          },
          "metadata": {},
          "execution_count": 27
        },
        {
          "output_type": "display_data",
          "data": {
            "text/plain": [
              "<Figure size 864x576 with 1 Axes>"
            ],
            "image/png": "[encoded data removed]"
          },
          "metadata": {
            "needs_background": "light"
          }
        }
      ]
    },
    {
      "cell_type": "markdown",
      "source": [
        "**Observation**\n",
        "* Most of the fires occured when Rain was 0 mm"
      ],
      "metadata": {
        "id": "wz3QLDvvmWa3"
      }
    },
    {
      "cell_type": "code",
      "source": [
        "plt.figure(figsize=(12,8))\n",
        "sns.countplot(data = df, x = 'Temperature', hue='Classes')"
      ],
      "metadata": {
        "colab": {
          "base_uri": "https://localhost:8080/",
          "height": 514
        },
        "id": "X3G51Y5SSxMW",
        "outputId": "39aa9b84-471e-4a98-e6a7-db38c1d8815d"
      },
      "execution_count": 28,
      "outputs": [
        {
          "output_type": "execute_result",
          "data": {
            "text/plain": [
              "<matplotlib.axes._subplots.AxesSubplot at 0x7fec06319c90>"
            ]
          },
          "metadata": {},
          "execution_count": 28
        },
        {
          "output_type": "display_data",
          "data": {
            "text/plain": [
              "<Figure size 864x576 with 1 Axes>"
            ],
            "image/png": "[encoded data removed]"
          },
          "metadata": {
            "needs_background": "light"
          }
        }
      ]
    },
    {
      "cell_type": "markdown",
      "source": [
        "**Observation**\n",
        "* Most of the fires occured when temperature was between 30 to 37 degree celsius\n"
      ],
      "metadata": {
        "id": "H6H3McvGmmQK"
      }
    },
    {
      "cell_type": "code",
      "source": [
        "plt.figure(figsize=(12,8))\n",
        "sns.countplot(data = df, x = 'Ws', hue='Classes')"
      ],
      "metadata": {
        "colab": {
          "base_uri": "https://localhost:8080/",
          "height": 514
        },
        "id": "HAyZD0BlUt7-",
        "outputId": "1f18c3ea-edfb-4ddc-f6ab-aa53987a5ed6"
      },
      "execution_count": 29,
      "outputs": [
        {
          "output_type": "execute_result",
          "data": {
            "text/plain": [
              "<matplotlib.axes._subplots.AxesSubplot at 0x7fec06970b10>"
            ]
          },
          "metadata": {},
          "execution_count": 29
        },
        {
          "output_type": "display_data",
          "data": {
            "text/plain": [
              "<Figure size 864x576 with 1 Axes>"
            ],
            "image/png": "[encoded data removed]"
          },
          "metadata": {
            "needs_background": "light"
          }
        }
      ]
    },
    {
      "cell_type": "markdown",
      "source": [
        "**Observation**\n",
        "* Most of the fires occurs when wind speed is between 13 to 19 km/h\n"
      ],
      "metadata": {
        "id": "Yboeb_sImuz5"
      }
    },
    {
      "cell_type": "code",
      "source": [
        "plt.figure(figsize=(20,8))\n",
        "sns.countplot(data = df, x = 'RH', hue='Classes').set_xticklabels(sns.countplot(data = df, x = 'RH', hue='Classes').get_xticklabels(), rotation=45)"
      ],
      "metadata": {
        "colab": {
          "base_uri": "https://localhost:8080/",
          "height": 1000
        },
        "id": "d_4_Q8WwUyam",
        "outputId": "79566622-5cc3-4232-fb86-b4dd98ddbcbd"
      },
      "execution_count": 30,
      "outputs": [
        {
          "output_type": "execute_result",
          "data": {
            "text/plain": [
              "[Text(0, 0, '21.0'),\n",
              " Text(0, 0, '24.0'),\n",
              " Text(0, 0, '26.0'),\n",
              " Text(0, 0, '29.0'),\n",
              " Text(0, 0, '31.0'),\n",
              " Text(0, 0, '33.0'),\n",
              " Text(0, 0, '34.0'),\n",
              " Text(0, 0, '35.0'),\n",
              " Text(0, 0, '36.0'),\n",
              " Text(0, 0, '37.0'),\n",
              " Text(0, 0, '38.0'),\n",
              " Text(0, 0, '39.0'),\n",
              " Text(0, 0, '40.0'),\n",
              " Text(0, 0, '41.0'),\n",
              " Text(0, 0, '42.0'),\n",
              " Text(0, 0, '43.0'),\n",
              " Text(0, 0, '44.0'),\n",
              " Text(0, 0, '45.0'),\n",
              " Text(0, 0, '46.0'),\n",
              " Text(0, 0, '47.0'),\n",
              " Text(0, 0, '48.0'),\n",
              " Text(0, 0, '49.0'),\n",
              " Text(0, 0, '50.0'),\n",
              " Text(0, 0, '51.0'),\n",
              " Text(0, 0, '52.0'),\n",
              " Text(0, 0, '53.0'),\n",
              " Text(0, 0, '54.0'),\n",
              " Text(0, 0, '55.0'),\n",
              " Text(0, 0, '56.0'),\n",
              " Text(0, 0, '57.0'),\n",
              " Text(0, 0, '58.0'),\n",
              " Text(0, 0, '59.0'),\n",
              " Text(0, 0, '60.0'),\n",
              " Text(0, 0, '61.0'),\n",
              " Text(0, 0, '62.0'),\n",
              " Text(0, 0, '63.0'),\n",
              " Text(0, 0, '64.0'),\n",
              " Text(0, 0, '65.0'),\n",
              " Text(0, 0, '66.0'),\n",
              " Text(0, 0, '67.0'),\n",
              " Text(0, 0, '68.0'),\n",
              " Text(0, 0, '69.0'),\n",
              " Text(0, 0, '70.0'),\n",
              " Text(0, 0, '71.0'),\n",
              " Text(0, 0, '72.0'),\n",
              " Text(0, 0, '73.0'),\n",
              " Text(0, 0, '74.0'),\n",
              " Text(0, 0, '75.0'),\n",
              " Text(0, 0, '76.0'),\n",
              " Text(0, 0, '77.0'),\n",
              " Text(0, 0, '78.0'),\n",
              " Text(0, 0, '79.0'),\n",
              " Text(0, 0, '80.0'),\n",
              " Text(0, 0, '81.0'),\n",
              " Text(0, 0, '82.0'),\n",
              " Text(0, 0, '83.0'),\n",
              " Text(0, 0, '84.0'),\n",
              " Text(0, 0, '86.0'),\n",
              " Text(0, 0, '87.0'),\n",
              " Text(0, 0, '88.0'),\n",
              " Text(0, 0, '89.0'),\n",
              " Text(0, 0, '90.0')]"
            ]
          },
          "metadata": {},
          "execution_count": 30
        },
        {
          "output_type": "display_data",
          "data": {
            "text/plain": [
              "<Figure size 1440x576 with 1 Axes>"
            ],
            "image/png": "[encoded data removed]"
          },
          "metadata": {
            "needs_background": "light"
          }
        }
      ]
    },
    {
      "cell_type": "markdown",
      "source": [
        "**Observation**\n",
        "* Maximum fires occurs when Relative humidity is between 37 % to 70 %"
      ],
      "metadata": {
        "id": "2b1mhPkkm391"
      }
    },
    {
      "cell_type": "code",
      "source": [
        "plt.figure(figsize=(12,8))\n",
        "sns.histplot(data=df,x='FFMC',kde=True,hue='Classes')"
      ],
      "metadata": {
        "colab": {
          "base_uri": "https://localhost:8080/",
          "height": 514
        },
        "id": "8XkXiKjDU2RN",
        "outputId": "4d3fce27-8f70-403b-a140-6774b485ff95"
      },
      "execution_count": 31,
      "outputs": [
        {
          "output_type": "execute_result",
          "data": {
            "text/plain": [
              "<matplotlib.axes._subplots.AxesSubplot at 0x7fec05d23990>"
            ]
          },
          "metadata": {},
          "execution_count": 31
        },
        {
          "output_type": "display_data",
          "data": {
            "text/plain": [
              "<Figure size 864x576 with 1 Axes>"
            ],
            "image/png": "[encoded data removed]"
          },
          "metadata": {
            "needs_background": "light"
          }
        }
      ]
    },
    {
      "cell_type": "markdown",
      "source": [
        "**Observation**\n",
        "* Most of the fires occurs when FFMC is between 80 to 90"
      ],
      "metadata": {
        "id": "yfaCmm-unM3D"
      }
    },
    {
      "cell_type": "code",
      "source": [
        "plt.figure(figsize=(12,8))\n",
        "sns.histplot(data=df,x='DMC',kde=True,hue='Classes')"
      ],
      "metadata": {
        "colab": {
          "base_uri": "https://localhost:8080/",
          "height": 514
        },
        "id": "Yjm1D92vU-RH",
        "outputId": "26dec01f-165d-42f8-c690-e234b272146f"
      },
      "execution_count": 32,
      "outputs": [
        {
          "output_type": "execute_result",
          "data": {
            "text/plain": [
              "<matplotlib.axes._subplots.AxesSubplot at 0x7fec06285190>"
            ]
          },
          "metadata": {},
          "execution_count": 32
        },
        {
          "output_type": "display_data",
          "data": {
            "text/plain": [
              "<Figure size 864x576 with 1 Axes>"
            ],
            "image/png": "[encoded data removed]"
          },
          "metadata": {
            "needs_background": "light"
          }
        }
      ]
    },
    {
      "cell_type": "markdown",
      "source": [
        "**Observation**\n",
        "* Based on the distribution we can see that most of the fires occurs when DMC is between 10 to 30"
      ],
      "metadata": {
        "id": "_5m0rwVSnXTS"
      }
    },
    {
      "cell_type": "code",
      "source": [
        "plt.figure(figsize=(12,8))\n",
        "sns.histplot(data=df,x='DC',kde=True,hue='Classes')"
      ],
      "metadata": {
        "colab": {
          "base_uri": "https://localhost:8080/",
          "height": 514
        },
        "id": "XoOwwkkkVIHe",
        "outputId": "e54d8680-4802-4560-b156-c51ba5b4bb9c"
      },
      "execution_count": 33,
      "outputs": [
        {
          "output_type": "execute_result",
          "data": {
            "text/plain": [
              "<matplotlib.axes._subplots.AxesSubplot at 0x7fec06a6f690>"
            ]
          },
          "metadata": {},
          "execution_count": 33
        },
        {
          "output_type": "display_data",
          "data": {
            "text/plain": [
              "<Figure size 864x576 with 1 Axes>"
            ],
            "image/png": "[encoded data removed]"
          },
          "metadata": {
            "needs_background": "light"
          }
        }
      ]
    },
    {
      "cell_type": "markdown",
      "source": [
        "**Observation**\n",
        "* Based on the distribution we can see that fires occurs when DC is above 25\n"
      ],
      "metadata": {
        "id": "GkUFmTAAnend"
      }
    },
    {
      "cell_type": "code",
      "source": [
        "plt.figure(figsize=(12,8))\n",
        "sns.histplot(data=df,x='ISI',kde=True,hue='Classes')"
      ],
      "metadata": {
        "colab": {
          "base_uri": "https://localhost:8080/",
          "height": 514
        },
        "id": "9CoLiEAhVLec",
        "outputId": "40f77c90-6217-441d-8a59-37b458a50917"
      },
      "execution_count": 34,
      "outputs": [
        {
          "output_type": "execute_result",
          "data": {
            "text/plain": [
              "<matplotlib.axes._subplots.AxesSubplot at 0x7fec05b07b90>"
            ]
          },
          "metadata": {},
          "execution_count": 34
        },
        {
          "output_type": "display_data",
          "data": {
            "text/plain": [
              "<Figure size 864x576 with 1 Axes>"
            ],
            "image/png": "[encoded data removed]"
          },
          "metadata": {
            "needs_background": "light"
          }
        }
      ]
    },
    {
      "cell_type": "markdown",
      "source": [
        "**Observation**\n",
        "* Fires occurs when ISI is above 2.5 and below 10\n"
      ],
      "metadata": {
        "id": "Oe2OsHvvnkAs"
      }
    },
    {
      "cell_type": "code",
      "source": [
        "plt.figure(figsize=(12,8))\n",
        "sns.histplot(data=df,x='BUI',kde=True,hue='Classes')"
      ],
      "metadata": {
        "colab": {
          "base_uri": "https://localhost:8080/",
          "height": 514
        },
        "id": "45ZMhcLBVYEO",
        "outputId": "2c85d312-7181-4258-dab6-be7be67833f2"
      },
      "execution_count": 35,
      "outputs": [
        {
          "output_type": "execute_result",
          "data": {
            "text/plain": [
              "<matplotlib.axes._subplots.AxesSubplot at 0x7fec05a3e7d0>"
            ]
          },
          "metadata": {},
          "execution_count": 35
        },
        {
          "output_type": "display_data",
          "data": {
            "text/plain": [
              "<Figure size 864x576 with 1 Axes>"
            ],
            "image/png": "[encoded data removed]"
          },
          "metadata": {
            "needs_background": "light"
          }
        }
      ]
    },
    {
      "cell_type": "markdown",
      "source": [
        "**Observation**\n",
        "* Most of the fires occurs when BUI is between 10 and 40\n"
      ],
      "metadata": {
        "id": "xPijIEM7nqJ2"
      }
    },
    {
      "cell_type": "code",
      "source": [
        "plt.figure(figsize=(12,8))\n",
        "sns.histplot(data=df,x='FWI',kde=True,hue='Classes')"
      ],
      "metadata": {
        "colab": {
          "base_uri": "https://localhost:8080/",
          "height": 514
        },
        "id": "PjZH9nV1VZ8w",
        "outputId": "72bf614d-b66b-4a03-90de-ad04eeb90eb8"
      },
      "execution_count": 36,
      "outputs": [
        {
          "output_type": "execute_result",
          "data": {
            "text/plain": [
              "<matplotlib.axes._subplots.AxesSubplot at 0x7fec05a2d410>"
            ]
          },
          "metadata": {},
          "execution_count": 36
        },
        {
          "output_type": "display_data",
          "data": {
            "text/plain": [
              "<Figure size 864x576 with 1 Axes>"
            ],
            "image/png": "[encoded data removed]"
          },
          "metadata": {
            "needs_background": "light"
          }
        }
      ]
    },
    {
      "cell_type": "markdown",
      "source": [
        "**Observation**\n",
        "* Most of the fires occurs when BUI is between 5 and 25\n"
      ],
      "metadata": {
        "id": "Lvgb1lEInwPp"
      }
    },
    {
      "cell_type": "markdown",
      "source": [
        "# **Outlier handling**"
      ],
      "metadata": {
        "id": "ooKScjGpVeeI"
      }
    },
    {
      "cell_type": "markdown",
      "source": [
        "**Create a function which will return upper and lower limit for outliers**"
      ],
      "metadata": {
        "id": "pWeSxWxen4Qn"
      }
    },
    {
      "cell_type": "code",
      "source": [
        "def find_boundaries(df, variable, distance):\n",
        " IQR = df[variable].quantile(0.75) - df[variable].quantile(0.25)\n",
        " lower_boundary = df[variable].quantile(0.25) - (IQR*distance)\n",
        " upper_boundary = df[variable].quantile(0.75) + (IQR*distance)\n",
        " return upper_boundary, lower_boundary"
      ],
      "metadata": {
        "id": "xN2hcp_laoiW"
      },
      "execution_count": 37,
      "outputs": []
    },
    {
      "cell_type": "markdown",
      "source": [
        "**Box plot for all the features before handling outliers**"
      ],
      "metadata": {
        "id": "s896hUBHoRGg"
      }
    },
    {
      "cell_type": "code",
      "source": [
        "plt.figure(figsize=(15, 8))\n",
        "sns.boxplot(data=df)\n",
        "plt.title(\"Before Removing Outliers\")"
      ],
      "metadata": {
        "colab": {
          "base_uri": "https://localhost:8080/",
          "height": 516
        },
        "id": "VebvvS6Gh4gN",
        "outputId": "6ba8ca1d-3c17-413b-f06f-4321e34c0d70"
      },
      "execution_count": 38,
      "outputs": [
        {
          "output_type": "execute_result",
          "data": {
            "text/plain": [
              "Text(0.5, 1.0, 'Before Removing Outliers')"
            ]
          },
          "metadata": {},
          "execution_count": 38
        },
        {
          "output_type": "display_data",
          "data": {
            "text/plain": [
              "<Figure size 1080x576 with 1 Axes>"
            ],
            "image/png": "[encoded data removed]"
          },
          "metadata": {
            "needs_background": "light"
          }
        }
      ]
    },
    {
      "cell_type": "markdown",
      "source": [
        "**Remove the outliers from all the columns**"
      ],
      "metadata": {
        "id": "TrqKDCa0oWut"
      }
    },
    {
      "cell_type": "code",
      "source": [
        "outliers_columns = ['Temperature', 'Ws','Rain','FFMC','DMC','DC','ISI','BUI', 'FWI']\n",
        "for i in outliers_columns:\n",
        "  upper_boundary, lower_boundary = find_boundaries(df,i, 1.5)\n",
        "  outliers = np.where(df[i] > upper_boundary, True, np.where(df[i] < lower_boundary, True, False))\n",
        "  outliers_df = df.loc[outliers, i]\n",
        "  df_trimed= df.loc[~outliers, i]\n",
        "  df[i] = df_trimed"
      ],
      "metadata": {
        "id": "E_LjNYfVgVAY"
      },
      "execution_count": 39,
      "outputs": []
    },
    {
      "cell_type": "markdown",
      "source": [
        "**Box plot for all the features after handling outliers**"
      ],
      "metadata": {
        "id": "5JfWNfyioX4W"
      }
    },
    {
      "cell_type": "code",
      "source": [
        "plt.figure(figsize=(15, 8))\n",
        "sns.boxplot(data=df)\n",
        "plt.title(\"After Removing Outliers\")"
      ],
      "metadata": {
        "colab": {
          "base_uri": "https://localhost:8080/",
          "height": 516
        },
        "id": "AtsJ3sbqh5yn",
        "outputId": "1f397216-59d6-469d-cf8a-77a3ba9ab3c8"
      },
      "execution_count": 40,
      "outputs": [
        {
          "output_type": "execute_result",
          "data": {
            "text/plain": [
              "Text(0.5, 1.0, 'After Removing Outliers')"
            ]
          },
          "metadata": {},
          "execution_count": 40
        },
        {
          "output_type": "display_data",
          "data": {
            "text/plain": [
              "<Figure size 1080x576 with 1 Axes>"
            ],
            "image/png": "[encoded data removed]"
          },
          "metadata": {
            "needs_background": "light"
          }
        }
      ]
    },
    {
      "cell_type": "markdown",
      "source": [
        "**Check all the null values after the removal of outliers**"
      ],
      "metadata": {
        "id": "Hcmtj2lyordM"
      }
    },
    {
      "cell_type": "code",
      "source": [
        "df.isnull().sum()"
      ],
      "metadata": {
        "colab": {
          "base_uri": "https://localhost:8080/"
        },
        "id": "lAPCsf62kf3n",
        "outputId": "df5a75e1-1ae1-4d06-f564-f78d66b7e3c0"
      },
      "execution_count": 41,
      "outputs": [
        {
          "output_type": "execute_result",
          "data": {
            "text/plain": [
              "Temperature     2\n",
              "RH              0\n",
              "Ws              8\n",
              "Rain           35\n",
              "FFMC           13\n",
              "DMC            12\n",
              "DC             14\n",
              "ISI             4\n",
              "BUI            11\n",
              "FWI             4\n",
              "Classes         0\n",
              "date            0\n",
              "Region          0\n",
              "dtype: int64"
            ]
          },
          "metadata": {},
          "execution_count": 41
        }
      ]
    },
    {
      "cell_type": "markdown",
      "source": [
        "**Create a copy of dataframe (df)**"
      ],
      "metadata": {
        "id": "gh0sUOM_oxXv"
      }
    },
    {
      "cell_type": "code",
      "source": [
        "df_copy = df"
      ],
      "metadata": {
        "id": "NRop-kWtm_QG"
      },
      "execution_count": 42,
      "outputs": []
    },
    {
      "cell_type": "markdown",
      "source": [
        "**Impute all the null values with mean**"
      ],
      "metadata": {
        "id": "4N4dlnsyo63q"
      }
    },
    {
      "cell_type": "code",
      "source": [
        "df_copy.fillna(df_copy.mean().round(1), inplace=True)"
      ],
      "metadata": {
        "id": "5cbP5GE1nJgP"
      },
      "execution_count": 43,
      "outputs": []
    },
    {
      "cell_type": "markdown",
      "source": [
        "**Check sum of null value in all the features after imputation**"
      ],
      "metadata": {
        "id": "wz0AsFHjpB9J"
      }
    },
    {
      "cell_type": "code",
      "source": [
        "df_copy.isnull().sum()"
      ],
      "metadata": {
        "colab": {
          "base_uri": "https://localhost:8080/"
        },
        "id": "UDB9LY5fnQ4n",
        "outputId": "f09d87cc-8a8f-4179-c155-3fdde63be8ce"
      },
      "execution_count": 44,
      "outputs": [
        {
          "output_type": "execute_result",
          "data": {
            "text/plain": [
              "Temperature    0\n",
              "RH             0\n",
              "Ws             0\n",
              "Rain           0\n",
              "FFMC           0\n",
              "DMC            0\n",
              "DC             0\n",
              "ISI            0\n",
              "BUI            0\n",
              "FWI            0\n",
              "Classes        0\n",
              "date           0\n",
              "Region         0\n",
              "dtype: int64"
            ]
          },
          "metadata": {},
          "execution_count": 44
        }
      ]
    },
    {
      "cell_type": "markdown",
      "source": [
        "**Drop target variable from X and stored it in y**"
      ],
      "metadata": {
        "id": "CeCflqW0pIvI"
      }
    },
    {
      "cell_type": "code",
      "source": [
        "X = df_copy.drop(columns=['Classes'])\n",
        "y = df_copy['Classes']"
      ],
      "metadata": {
        "id": "S1WOrmNunUo2"
      },
      "execution_count": 45,
      "outputs": []
    },
    {
      "cell_type": "markdown",
      "source": [
        "**Check distribution of all the features wrt target variable i.e., Classes**"
      ],
      "metadata": {
        "id": "1T639KHDpZfu"
      }
    },
    {
      "cell_type": "code",
      "source": [
        "plt.figure(figsize=(15,8), facecolor='white')\n",
        "plotnumber = 1\n",
        "for column in X:\n",
        " if plotnumber <= 9:\n",
        "  ax = plt.subplot(3,3,plotnumber)\n",
        "  sns.stripplot(y,X[column])\n",
        " plotnumber+=1\n",
        "plt.tight_layout()"
      ],
      "metadata": {
        "colab": {
          "base_uri": "https://localhost:8080/",
          "height": 585
        },
        "id": "_pc8uL8bnYkP",
        "outputId": "46151ceb-2b00-4aa7-fd12-c99d8b7cfbc5"
      },
      "execution_count": 46,
      "outputs": [
        {
          "output_type": "display_data",
          "data": {
            "text/plain": [
              "<Figure size 1080x576 with 9 Axes>"
            ],
            "image/png": "[encoded data removed]"
          },
          "metadata": {}
        }
      ]
    },
    {
      "cell_type": "markdown",
      "source": [
        "# **Logistic Regression Model Creation**"
      ],
      "metadata": {
        "id": "dH35awNHp4wW"
      }
    },
    {
      "cell_type": "markdown",
      "source": [
        "**Import all the required libraries**"
      ],
      "metadata": {
        "id": "sTPb1zx1p1ii"
      }
    },
    {
      "cell_type": "code",
      "source": [
        "from sklearn.preprocessing import StandardScaler\n",
        "from sklearn.linear_model import Ridge,Lasso,RidgeCV, LassoCV, ElasticNet, ElasticNetCV, LogisticRegression\n",
        "from sklearn.model_selection import train_test_split\n",
        "from statsmodels.stats.outliers_influence import variance_inflation_factor\n",
        "from sklearn.metrics import accuracy_score, confusion_matrix, roc_curve, roc_auc_score\n",
        "import matplotlib.pyplot as plt\n",
        "import seaborn as sns\n",
        "import scikitplot as skl\n",
        "sns.set()"
      ],
      "metadata": {
        "id": "v2RmmqVeni_I"
      },
      "execution_count": 47,
      "outputs": []
    },
    {
      "cell_type": "markdown",
      "source": [
        "Create a list of all the features which needs to be scaled"
      ],
      "metadata": {
        "id": "TtN-TF9UqDM_"
      }
    },
    {
      "cell_type": "code",
      "source": [
        "X = X[['Temperature', 'RH', 'Rain', 'Ws', 'FFMC', 'DMC', 'DC', 'ISI', 'BUI', 'FWI']]"
      ],
      "metadata": {
        "id": "BEsAxaGhpHYe"
      },
      "execution_count": 48,
      "outputs": []
    },
    {
      "cell_type": "markdown",
      "source": [
        "Create object of StandardScaler class to perform standard scaling"
      ],
      "metadata": {
        "id": "e4UuKlC3qgw4"
      }
    },
    {
      "cell_type": "code",
      "source": [
        "scalar = StandardScaler()\n",
        "X_scaled = scalar.fit_transform(X)"
      ],
      "metadata": {
        "id": "lEDwlLg5nvBe"
      },
      "execution_count": 49,
      "outputs": []
    },
    {
      "cell_type": "markdown",
      "source": [
        "Check multicollinearity using VIF"
      ],
      "metadata": {
        "id": "G8OP88hDqoIt"
      }
    },
    {
      "cell_type": "code",
      "source": [
        "vif = pd.DataFrame()\n",
        "vif[\"vif\"] = [variance_inflation_factor(X_scaled,i) for i in range(X_scaled.shape[1])]\n",
        "vif[\"Features\"] = X.columns\n",
        "vif"
      ],
      "metadata": {
        "colab": {
          "base_uri": "https://localhost:8080/",
          "height": 363
        },
        "id": "9CbCXsv5oMKn",
        "outputId": "ef405dd0-b59c-4dcc-d074-6d8e4907140d"
      },
      "execution_count": 50,
      "outputs": [
        {
          "output_type": "execute_result",
          "data": {
            "text/plain": [
              "         vif     Features\n",
              "0   2.252810  Temperature\n",
              "1   2.345986           RH\n",
              "2   1.647905         Rain\n",
              "3   1.200894           Ws\n",
              "4   2.967616         FFMC\n",
              "5   7.830671          DMC\n",
              "6   3.676700           DC\n",
              "7   6.735939          ISI\n",
              "8  10.841165          BUI\n",
              "9   7.216442          FWI"
            ],
            "text/html": [
              "\n",
              "  <div id=\"df-02a160b8-5d05-4799-b151-8762b48f06b1\">\n",
              "    <div class=\"colab-df-container\">\n",
              "      <div>\n",
              "<style scoped>\n",
              "    .dataframe tbody tr th:only-of-type {\n",
              "        vertical-align: middle;\n",
              "    }\n",
              "\n",
              "    .dataframe tbody tr th {\n",
              "        vertical-align: top;\n",
              "    }\n",
              "\n",
              "    .dataframe thead th {\n",
              "        text-align: right;\n",
              "    }\n",
              "</style>\n",
              "<table border=\"1\" class=\"dataframe\">\n",
              "  <thead>\n",
              "    <tr style=\"text-align: right;\">\n",
              "      <th></th>\n",
              "      <th>vif</th>\n",
              "      <th>Features</th>\n",
              "    </tr>\n",
              "  </thead>\n",
              "  <tbody>\n",
              "    <tr>\n",
              "      <th>0</th>\n",
              "      <td>2.252810</td>\n",
              "      <td>Temperature</td>\n",
              "    </tr>\n",
              "    <tr>\n",
              "      <th>1</th>\n",
              "      <td>2.345986</td>\n",
              "      <td>RH</td>\n",
              "    </tr>\n",
              "    <tr>\n",
              "      <th>2</th>\n",
              "      <td>1.647905</td>\n",
              "      <td>Rain</td>\n",
              "    </tr>\n",
              "    <tr>\n",
              "      <th>3</th>\n",
              "      <td>1.200894</td>\n",
              "      <td>Ws</td>\n",
              "    </tr>\n",
              "    <tr>\n",
              "      <th>4</th>\n",
              "      <td>2.967616</td>\n",
              "      <td>FFMC</td>\n",
              "    </tr>\n",
              "    <tr>\n",
              "      <th>5</th>\n",
              "      <td>7.830671</td>\n",
              "      <td>DMC</td>\n",
              "    </tr>\n",
              "    <tr>\n",
              "      <th>6</th>\n",
              "      <td>3.676700</td>\n",
              "      <td>DC</td>\n",
              "    </tr>\n",
              "    <tr>\n",
              "      <th>7</th>\n",
              "      <td>6.735939</td>\n",
              "      <td>ISI</td>\n",
              "    </tr>\n",
              "    <tr>\n",
              "      <th>8</th>\n",
              "      <td>10.841165</td>\n",
              "      <td>BUI</td>\n",
              "    </tr>\n",
              "    <tr>\n",
              "      <th>9</th>\n",
              "      <td>7.216442</td>\n",
              "      <td>FWI</td>\n",
              "    </tr>\n",
              "  </tbody>\n",
              "</table>\n",
              "</div>\n",
              "      <button class=\"colab-df-convert\" onclick=\"convertToInteractive('df-02a160b8-5d05-4799-b151-8762b48f06b1')\"\n",
              "              title=\"Convert this dataframe to an interactive table.\"\n",
              "              style=\"display:none;\">\n",
              "        \n",
              "  <svg xmlns=\"http://www.w3.org/2000/svg\" height=\"24px\"viewBox=\"0 0 24 24\"\n",
              "       width=\"24px\">\n",
              "    <path d=\"M0 0h24v24H0V0z\" fill=\"none\"/>\n",
              "    <path d=\"M18.56 5.44l.94 2.06.94-2.06 2.06-.94-2.06-.94-.94-2.06-.94 2.06-2.06.94zm-11 1L8.5 8.5l.94-2.06 2.06-.94-2.06-.94L8.5 2.5l-.94 2.06-2.06.94zm10 10l.94 2.06.94-2.06 2.06-.94-2.06-.94-.94-2.06-.94 2.06-2.06.94z\"/><path d=\"M17.41 7.96l-1.37-1.37c-.4-.4-.92-.59-1.43-.59-.52 0-1.04.2-1.43.59L10.3 9.45l-7.72 7.72c-.78.78-.78 2.05 0 2.83L4 21.41c.39.39.9.59 1.41.59.51 0 1.02-.2 1.41-.59l7.78-7.78 2.81-2.81c.8-.78.8-2.07 0-2.86zM5.41 20L4 18.59l7.72-7.72 1.47 1.35L5.41 20z\"/>\n",
              "  </svg>\n",
              "      </button>\n",
              "      \n",
              "  <style>\n",
              "    .colab-df-container {\n",
              "      display:flex;\n",
              "      flex-wrap:wrap;\n",
              "      gap: 12px;\n",
              "    }\n",
              "\n",
              "    .colab-df-convert {\n",
              "      background-color: #E8F0FE;\n",
              "      border: none;\n",
              "      border-radius: 50%;\n",
              "      cursor: pointer;\n",
              "      display: none;\n",
              "      fill: #1967D2;\n",
              "      height: 32px;\n",
              "      padding: 0 0 0 0;\n",
              "      width: 32px;\n",
              "    }\n",
              "\n",
              "    .colab-df-convert:hover {\n",
              "      background-color: #E2EBFA;\n",
              "      box-shadow: 0px 1px 2px rgba(60, 64, 67, 0.3), 0px 1px 3px 1px rgba(60, 64, 67, 0.15);\n",
              "      fill: #174EA6;\n",
              "    }\n",
              "\n",
              "    [theme=dark] .colab-df-convert {\n",
              "      background-color: #3B4455;\n",
              "      fill: #D2E3FC;\n",
              "    }\n",
              "\n",
              "    [theme=dark] .colab-df-convert:hover {\n",
              "      background-color: #434B5C;\n",
              "      box-shadow: 0px 1px 3px 1px rgba(0, 0, 0, 0.15);\n",
              "      filter: drop-shadow(0px 1px 2px rgba(0, 0, 0, 0.3));\n",
              "      fill: #FFFFFF;\n",
              "    }\n",
              "  </style>\n",
              "\n",
              "      <script>\n",
              "        const buttonEl =\n",
              "          document.querySelector('#df-02a160b8-5d05-4799-b151-8762b48f06b1 button.colab-df-convert');\n",
              "        buttonEl.style.display =\n",
              "          google.colab.kernel.accessAllowed ? 'block' : 'none';\n",
              "\n",
              "        async function convertToInteractive(key) {\n",
              "          const element = document.querySelector('#df-02a160b8-5d05-4799-b151-8762b48f06b1');\n",
              "          const dataTable =\n",
              "            await google.colab.kernel.invokeFunction('convertToInteractive',\n",
              "                                                     [key], {});\n",
              "          if (!dataTable) return;\n",
              "\n",
              "          const docLinkHtml = 'Like what you see? Visit the ' +\n",
              "            '<a target=\"_blank\" href=https://colab.research.google.com/notebooks/data_table.ipynb>data table notebook</a>'\n",
              "            + ' to learn more about interactive tables.';\n",
              "          element.innerHTML = '';\n",
              "          dataTable['output_type'] = 'display_data';\n",
              "          await google.colab.output.renderOutput(dataTable, element);\n",
              "          const docLink = document.createElement('div');\n",
              "          docLink.innerHTML = docLinkHtml;\n",
              "          element.appendChild(docLink);\n",
              "        }\n",
              "      </script>\n",
              "    </div>\n",
              "  </div>\n",
              "  "
            ]
          },
          "metadata": {},
          "execution_count": 50
        }
      ]
    },
    {
      "cell_type": "markdown",
      "source": [
        "* If VIF == 1 --> Variables are not correlated\n",
        "* If 1 < VIF < 5 --> variables are moderately correlated\n",
        "* If VIF > 5 --> variables are highly correlated\n"
      ],
      "metadata": {
        "id": "QgnkTRm_qyqa"
      }
    },
    {
      "cell_type": "markdown",
      "source": [
        "**Perform train test split using trat_test_split function of sckitik learn**"
      ],
      "metadata": {
        "id": "J6kdAbEorTar"
      }
    },
    {
      "cell_type": "code",
      "source": [
        "x_train,x_test,y_train,y_test = train_test_split(X_scaled,y, test_size= 0.25, random_state = 42)"
      ],
      "metadata": {
        "id": "GxjtVXoMoZw2"
      },
      "execution_count": 51,
      "outputs": []
    },
    {
      "cell_type": "markdown",
      "source": [
        "**Create a object of Logistic Regression to perform model training**"
      ],
      "metadata": {
        "id": "GjnTqR4ErbDh"
      }
    },
    {
      "cell_type": "code",
      "source": [
        "log_reg = LogisticRegression()\n",
        "log_reg.fit(x_train,y_train)"
      ],
      "metadata": {
        "colab": {
          "base_uri": "https://localhost:8080/"
        },
        "id": "GBh0vIDkoZz_",
        "outputId": "a884b1b1-d3a1-4e4f-ff5a-cc63d8fcc2ba"
      },
      "execution_count": 52,
      "outputs": [
        {
          "output_type": "execute_result",
          "data": {
            "text/plain": [
              "LogisticRegression()"
            ]
          },
          "metadata": {},
          "execution_count": 52
        }
      ]
    },
    {
      "cell_type": "code",
      "source": [
        "import pickle\n",
        "# Writing different model files to file\n",
        "with open( 'modelForPrediction.sav', 'wb') as f:\n",
        " pickle.dump(log_reg,f)\n",
        "\n",
        "with open('sandardScalar.sav', 'wb') as f:\n",
        " pickle.dump(scalar,f)"
      ],
      "metadata": {
        "id": "csY_R0IboZ2i"
      },
      "execution_count": 53,
      "outputs": []
    },
    {
      "cell_type": "markdown",
      "source": [
        "**Predicit the value for x_test and stored it in y_pred**"
      ],
      "metadata": {
        "id": "uO8BTNTerooI"
      }
    },
    {
      "cell_type": "code",
      "source": [
        "y_pred = log_reg.predict(x_test)"
      ],
      "metadata": {
        "id": "8AZp_VWgog5U"
      },
      "execution_count": 54,
      "outputs": []
    },
    {
      "cell_type": "markdown",
      "source": [
        "# **Performance metrics**"
      ],
      "metadata": {
        "id": "iAjFV4xlryBw"
      }
    },
    {
      "cell_type": "markdown",
      "source": [
        "**Test Data**"
      ],
      "metadata": {
        "id": "phEIovybr3Fx"
      }
    },
    {
      "cell_type": "code",
      "source": [
        "accuracy = accuracy_score(y_test,y_pred)\n",
        "conf_mat = confusion_matrix(y_test,y_pred)\n",
        "true_positive = conf_mat[0][0]\n",
        "false_positive = conf_mat[0][1]\n",
        "false_negative = conf_mat[1][0]\n",
        "true_negative = conf_mat[1][1]\n",
        "Precision = true_positive/(true_positive+false_positive)\n",
        "Recall = true_positive/(true_positive+false_negative)\n",
        "F1_Score = 2*(Recall * Precision) / (Recall + Precision)\n",
        "auc = roc_auc_score(y_test, y_pred)\n",
        "print(f\" Confusion Matrix : {conf_mat}\")\n",
        "print(f\" Accuracy : {accuracy*100}\")\n",
        "print(f\" Precision : {Precision*100}\")\n",
        "print(f\" Recall : {Recall*100}\")\n",
        "print(f\" F1_Score : {F1_Score*100}\")\n",
        "print(f\" AUC : {auc*100}\")"
      ],
      "metadata": {
        "colab": {
          "base_uri": "https://localhost:8080/"
        },
        "id": "qubgiqvLog8K",
        "outputId": "249e9db6-172b-4d24-e871-267f79f71f14"
      },
      "execution_count": 55,
      "outputs": [
        {
          "output_type": "stream",
          "name": "stdout",
          "text": [
            " Confusion Matrix : [[23  1]\n",
            " [ 2 35]]\n",
            " Accuracy : 95.08196721311475\n",
            " Precision : 95.83333333333334\n",
            " Recall : 92.0\n",
            " F1_Score : 93.87755102040816\n",
            " AUC : 95.21396396396398\n"
          ]
        }
      ]
    },
    {
      "cell_type": "markdown",
      "source": [
        "**Predicit the value for x_test and stored it in y_pred**"
      ],
      "metadata": {
        "id": "oe5lcQLmrBgJ"
      }
    },
    {
      "cell_type": "code",
      "source": [
        "y_pred = log_reg.predict(x_train)"
      ],
      "metadata": {
        "id": "qQ7nNsXLrDnK"
      },
      "execution_count": 56,
      "outputs": []
    },
    {
      "cell_type": "markdown",
      "source": [
        "**Train Data**"
      ],
      "metadata": {
        "id": "nYurjTB3r9ls"
      }
    },
    {
      "cell_type": "code",
      "source": [
        "accuracy = accuracy_score(y_train,y_pred)\n",
        "conf_mat = confusion_matrix(y_train,y_pred)\n",
        "true_positive = conf_mat[0][0]\n",
        "false_positive = conf_mat[0][1]\n",
        "false_negative = conf_mat[1][0]\n",
        "true_negative = conf_mat[1][1]\n",
        "Precision = true_positive/(true_positive+false_positive)\n",
        "Recall = true_positive/(true_positive+false_negative)\n",
        "F1_Score = 2*(Recall * Precision) / (Recall + Precision)\n",
        "auc = roc_auc_score(y_train, y_pred)\n",
        "print(f\" Confusion Matrix : {conf_mat}\")\n",
        "print(f\" Accuracy : {accuracy*100}\")\n",
        "print(f\" Precision : {Precision*100}\")\n",
        "print(f\" Recall : {Recall*100}\")\n",
        "print(f\" F1_Score : {F1_Score*100}\")\n",
        "print(f\" AUC : {auc*100}\")"
      ],
      "metadata": {
        "colab": {
          "base_uri": "https://localhost:8080/"
        },
        "outputId": "354225c2-e00f-4d20-c82a-1d6017e8d353",
        "id": "bk0hx1MQrDnL"
      },
      "execution_count": 57,
      "outputs": [
        {
          "output_type": "stream",
          "name": "stdout",
          "text": [
            " Confusion Matrix : [[80  2]\n",
            " [ 3 97]]\n",
            " Accuracy : 97.25274725274726\n",
            " Precision : 97.5609756097561\n",
            " Recall : 96.3855421686747\n",
            " F1_Score : 96.96969696969697\n",
            " AUC : 97.28048780487805\n"
          ]
        }
      ]
    },
    {
      "cell_type": "markdown",
      "source": [
        "Conclusion:\n",
        "* All the value for all the performance matrics are good and hence our model is prediction well for train and test data. As observed it is a imbalnced dataset. We will try to fix this probem in the next article "
      ],
      "metadata": {
        "id": "qI7xmi16sMH4"
      }
    }
  ]
}